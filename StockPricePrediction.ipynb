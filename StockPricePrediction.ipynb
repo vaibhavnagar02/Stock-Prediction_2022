{
  "nbformat": 4,
  "nbformat_minor": 0,
  "metadata": {
    "colab": {
      "name": "StockPricePrediction.ipynb",
      "provenance": [],
      "collapsed_sections": [],
      "authorship_tag": "ABX9TyMsRGDZFvucWbctASeCyhci",
      "include_colab_link": true
    },
    "kernelspec": {
      "name": "python3",
      "display_name": "Python 3"
    },
    "language_info": {
      "name": "python"
    }
  },
  "cells": [
    {
      "cell_type": "markdown",
      "metadata": {
        "id": "view-in-github",
        "colab_type": "text"
      },
      "source": [
        "<a href=\"https://colab.research.google.com/github/vaibhavnagar02/Stock-Prediction_2022/blob/main/StockPricePrediction.ipynb\" target=\"_parent\"><img src=\"https://colab.research.google.com/assets/colab-badge.svg\" alt=\"Open In Colab\"/></a>"
      ]
    },
    {
      "cell_type": "code",
      "execution_count": 3,
      "metadata": {
        "id": "hJY71AvUEVD-"
      },
      "outputs": [],
      "source": [
        "import os\n",
        "import numpy as np\n",
        "import pandas as pd\n",
        "import matplotlib.pyplot as plt\n",
        "%matplotlib inline"
      ]
    },
    {
      "cell_type": "code",
      "source": [
        "df_train = pd.read_csv(\"AAPL.csv\")"
      ],
      "metadata": {
        "id": "fPLxnQmSFSJu"
      },
      "execution_count": 4,
      "outputs": []
    },
    {
      "cell_type": "code",
      "source": [
        "df_train.head()"
      ],
      "metadata": {
        "colab": {
          "base_uri": "https://localhost:8080/",
          "height": 206
        },
        "id": "k02o6wvhFXqp",
        "outputId": "d178683c-cf67-46d2-baaa-5449805fd081"
      },
      "execution_count": 5,
      "outputs": [
        {
          "output_type": "execute_result",
          "data": {
            "text/plain": [
              "         Date      Open      High       Low     Close  Adj Close     Volume\n",
              "0  1980-12-12  0.128348  0.128906  0.128348  0.128348   0.100178  469033600\n",
              "1  1980-12-15  0.122210  0.122210  0.121652  0.121652   0.094952  175884800\n",
              "2  1980-12-16  0.113281  0.113281  0.112723  0.112723   0.087983  105728000\n",
              "3  1980-12-17  0.115513  0.116071  0.115513  0.115513   0.090160   86441600\n",
              "4  1980-12-18  0.118862  0.119420  0.118862  0.118862   0.092774   73449600"
            ],
            "text/html": [
              "\n",
              "  <div id=\"df-ffe27749-0265-4807-b963-6990bfd3981b\">\n",
              "    <div class=\"colab-df-container\">\n",
              "      <div>\n",
              "<style scoped>\n",
              "    .dataframe tbody tr th:only-of-type {\n",
              "        vertical-align: middle;\n",
              "    }\n",
              "\n",
              "    .dataframe tbody tr th {\n",
              "        vertical-align: top;\n",
              "    }\n",
              "\n",
              "    .dataframe thead th {\n",
              "        text-align: right;\n",
              "    }\n",
              "</style>\n",
              "<table border=\"1\" class=\"dataframe\">\n",
              "  <thead>\n",
              "    <tr style=\"text-align: right;\">\n",
              "      <th></th>\n",
              "      <th>Date</th>\n",
              "      <th>Open</th>\n",
              "      <th>High</th>\n",
              "      <th>Low</th>\n",
              "      <th>Close</th>\n",
              "      <th>Adj Close</th>\n",
              "      <th>Volume</th>\n",
              "    </tr>\n",
              "  </thead>\n",
              "  <tbody>\n",
              "    <tr>\n",
              "      <th>0</th>\n",
              "      <td>1980-12-12</td>\n",
              "      <td>0.128348</td>\n",
              "      <td>0.128906</td>\n",
              "      <td>0.128348</td>\n",
              "      <td>0.128348</td>\n",
              "      <td>0.100178</td>\n",
              "      <td>469033600</td>\n",
              "    </tr>\n",
              "    <tr>\n",
              "      <th>1</th>\n",
              "      <td>1980-12-15</td>\n",
              "      <td>0.122210</td>\n",
              "      <td>0.122210</td>\n",
              "      <td>0.121652</td>\n",
              "      <td>0.121652</td>\n",
              "      <td>0.094952</td>\n",
              "      <td>175884800</td>\n",
              "    </tr>\n",
              "    <tr>\n",
              "      <th>2</th>\n",
              "      <td>1980-12-16</td>\n",
              "      <td>0.113281</td>\n",
              "      <td>0.113281</td>\n",
              "      <td>0.112723</td>\n",
              "      <td>0.112723</td>\n",
              "      <td>0.087983</td>\n",
              "      <td>105728000</td>\n",
              "    </tr>\n",
              "    <tr>\n",
              "      <th>3</th>\n",
              "      <td>1980-12-17</td>\n",
              "      <td>0.115513</td>\n",
              "      <td>0.116071</td>\n",
              "      <td>0.115513</td>\n",
              "      <td>0.115513</td>\n",
              "      <td>0.090160</td>\n",
              "      <td>86441600</td>\n",
              "    </tr>\n",
              "    <tr>\n",
              "      <th>4</th>\n",
              "      <td>1980-12-18</td>\n",
              "      <td>0.118862</td>\n",
              "      <td>0.119420</td>\n",
              "      <td>0.118862</td>\n",
              "      <td>0.118862</td>\n",
              "      <td>0.092774</td>\n",
              "      <td>73449600</td>\n",
              "    </tr>\n",
              "  </tbody>\n",
              "</table>\n",
              "</div>\n",
              "      <button class=\"colab-df-convert\" onclick=\"convertToInteractive('df-ffe27749-0265-4807-b963-6990bfd3981b')\"\n",
              "              title=\"Convert this dataframe to an interactive table.\"\n",
              "              style=\"display:none;\">\n",
              "        \n",
              "  <svg xmlns=\"http://www.w3.org/2000/svg\" height=\"24px\"viewBox=\"0 0 24 24\"\n",
              "       width=\"24px\">\n",
              "    <path d=\"M0 0h24v24H0V0z\" fill=\"none\"/>\n",
              "    <path d=\"M18.56 5.44l.94 2.06.94-2.06 2.06-.94-2.06-.94-.94-2.06-.94 2.06-2.06.94zm-11 1L8.5 8.5l.94-2.06 2.06-.94-2.06-.94L8.5 2.5l-.94 2.06-2.06.94zm10 10l.94 2.06.94-2.06 2.06-.94-2.06-.94-.94-2.06-.94 2.06-2.06.94z\"/><path d=\"M17.41 7.96l-1.37-1.37c-.4-.4-.92-.59-1.43-.59-.52 0-1.04.2-1.43.59L10.3 9.45l-7.72 7.72c-.78.78-.78 2.05 0 2.83L4 21.41c.39.39.9.59 1.41.59.51 0 1.02-.2 1.41-.59l7.78-7.78 2.81-2.81c.8-.78.8-2.07 0-2.86zM5.41 20L4 18.59l7.72-7.72 1.47 1.35L5.41 20z\"/>\n",
              "  </svg>\n",
              "      </button>\n",
              "      \n",
              "  <style>\n",
              "    .colab-df-container {\n",
              "      display:flex;\n",
              "      flex-wrap:wrap;\n",
              "      gap: 12px;\n",
              "    }\n",
              "\n",
              "    .colab-df-convert {\n",
              "      background-color: #E8F0FE;\n",
              "      border: none;\n",
              "      border-radius: 50%;\n",
              "      cursor: pointer;\n",
              "      display: none;\n",
              "      fill: #1967D2;\n",
              "      height: 32px;\n",
              "      padding: 0 0 0 0;\n",
              "      width: 32px;\n",
              "    }\n",
              "\n",
              "    .colab-df-convert:hover {\n",
              "      background-color: #E2EBFA;\n",
              "      box-shadow: 0px 1px 2px rgba(60, 64, 67, 0.3), 0px 1px 3px 1px rgba(60, 64, 67, 0.15);\n",
              "      fill: #174EA6;\n",
              "    }\n",
              "\n",
              "    [theme=dark] .colab-df-convert {\n",
              "      background-color: #3B4455;\n",
              "      fill: #D2E3FC;\n",
              "    }\n",
              "\n",
              "    [theme=dark] .colab-df-convert:hover {\n",
              "      background-color: #434B5C;\n",
              "      box-shadow: 0px 1px 3px 1px rgba(0, 0, 0, 0.15);\n",
              "      filter: drop-shadow(0px 1px 2px rgba(0, 0, 0, 0.3));\n",
              "      fill: #FFFFFF;\n",
              "    }\n",
              "  </style>\n",
              "\n",
              "      <script>\n",
              "        const buttonEl =\n",
              "          document.querySelector('#df-ffe27749-0265-4807-b963-6990bfd3981b button.colab-df-convert');\n",
              "        buttonEl.style.display =\n",
              "          google.colab.kernel.accessAllowed ? 'block' : 'none';\n",
              "\n",
              "        async function convertToInteractive(key) {\n",
              "          const element = document.querySelector('#df-ffe27749-0265-4807-b963-6990bfd3981b');\n",
              "          const dataTable =\n",
              "            await google.colab.kernel.invokeFunction('convertToInteractive',\n",
              "                                                     [key], {});\n",
              "          if (!dataTable) return;\n",
              "\n",
              "          const docLinkHtml = 'Like what you see? Visit the ' +\n",
              "            '<a target=\"_blank\" href=https://colab.research.google.com/notebooks/data_table.ipynb>data table notebook</a>'\n",
              "            + ' to learn more about interactive tables.';\n",
              "          element.innerHTML = '';\n",
              "          dataTable['output_type'] = 'display_data';\n",
              "          await google.colab.output.renderOutput(dataTable, element);\n",
              "          const docLink = document.createElement('div');\n",
              "          docLink.innerHTML = docLinkHtml;\n",
              "          element.appendChild(docLink);\n",
              "        }\n",
              "      </script>\n",
              "    </div>\n",
              "  </div>\n",
              "  "
            ]
          },
          "metadata": {},
          "execution_count": 5
        }
      ]
    },
    {
      "cell_type": "code",
      "source": [
        "df_train"
      ],
      "metadata": {
        "colab": {
          "base_uri": "https://localhost:8080/",
          "height": 424
        },
        "id": "pkPp9fNeG6xa",
        "outputId": "cbbfd6ec-13a2-4fc5-83dc-ade6664b88db"
      },
      "execution_count": 6,
      "outputs": [
        {
          "output_type": "execute_result",
          "data": {
            "text/plain": [
              "             Date        Open        High         Low       Close   Adj Close  \\\n",
              "0      1980-12-12    0.128348    0.128906    0.128348    0.128348    0.100178   \n",
              "1      1980-12-15    0.122210    0.122210    0.121652    0.121652    0.094952   \n",
              "2      1980-12-16    0.113281    0.113281    0.112723    0.112723    0.087983   \n",
              "3      1980-12-17    0.115513    0.116071    0.115513    0.115513    0.090160   \n",
              "4      1980-12-18    0.118862    0.119420    0.118862    0.118862    0.092774   \n",
              "...           ...         ...         ...         ...         ...         ...   \n",
              "10463  2022-06-13  132.869995  135.199997  131.440002  131.880005  131.880005   \n",
              "10464  2022-06-14  133.130005  133.889999  131.479996  132.759995  132.759995   \n",
              "10465  2022-06-15  134.289993  137.339996  132.160004  135.429993  135.429993   \n",
              "10466  2022-06-16  132.080002  132.389999  129.039993  130.059998  130.059998   \n",
              "10467  2022-06-17  130.070007  133.080002  129.809998  131.559998  131.559998   \n",
              "\n",
              "          Volume  \n",
              "0      469033600  \n",
              "1      175884800  \n",
              "2      105728000  \n",
              "3       86441600  \n",
              "4       73449600  \n",
              "...          ...  \n",
              "10463  122207100  \n",
              "10464   84784300  \n",
              "10465   91533000  \n",
              "10466  108123900  \n",
              "10467  134118500  \n",
              "\n",
              "[10468 rows x 7 columns]"
            ],
            "text/html": [
              "\n",
              "  <div id=\"df-2f82068d-5e94-4da2-be62-aebbf5947b50\">\n",
              "    <div class=\"colab-df-container\">\n",
              "      <div>\n",
              "<style scoped>\n",
              "    .dataframe tbody tr th:only-of-type {\n",
              "        vertical-align: middle;\n",
              "    }\n",
              "\n",
              "    .dataframe tbody tr th {\n",
              "        vertical-align: top;\n",
              "    }\n",
              "\n",
              "    .dataframe thead th {\n",
              "        text-align: right;\n",
              "    }\n",
              "</style>\n",
              "<table border=\"1\" class=\"dataframe\">\n",
              "  <thead>\n",
              "    <tr style=\"text-align: right;\">\n",
              "      <th></th>\n",
              "      <th>Date</th>\n",
              "      <th>Open</th>\n",
              "      <th>High</th>\n",
              "      <th>Low</th>\n",
              "      <th>Close</th>\n",
              "      <th>Adj Close</th>\n",
              "      <th>Volume</th>\n",
              "    </tr>\n",
              "  </thead>\n",
              "  <tbody>\n",
              "    <tr>\n",
              "      <th>0</th>\n",
              "      <td>1980-12-12</td>\n",
              "      <td>0.128348</td>\n",
              "      <td>0.128906</td>\n",
              "      <td>0.128348</td>\n",
              "      <td>0.128348</td>\n",
              "      <td>0.100178</td>\n",
              "      <td>469033600</td>\n",
              "    </tr>\n",
              "    <tr>\n",
              "      <th>1</th>\n",
              "      <td>1980-12-15</td>\n",
              "      <td>0.122210</td>\n",
              "      <td>0.122210</td>\n",
              "      <td>0.121652</td>\n",
              "      <td>0.121652</td>\n",
              "      <td>0.094952</td>\n",
              "      <td>175884800</td>\n",
              "    </tr>\n",
              "    <tr>\n",
              "      <th>2</th>\n",
              "      <td>1980-12-16</td>\n",
              "      <td>0.113281</td>\n",
              "      <td>0.113281</td>\n",
              "      <td>0.112723</td>\n",
              "      <td>0.112723</td>\n",
              "      <td>0.087983</td>\n",
              "      <td>105728000</td>\n",
              "    </tr>\n",
              "    <tr>\n",
              "      <th>3</th>\n",
              "      <td>1980-12-17</td>\n",
              "      <td>0.115513</td>\n",
              "      <td>0.116071</td>\n",
              "      <td>0.115513</td>\n",
              "      <td>0.115513</td>\n",
              "      <td>0.090160</td>\n",
              "      <td>86441600</td>\n",
              "    </tr>\n",
              "    <tr>\n",
              "      <th>4</th>\n",
              "      <td>1980-12-18</td>\n",
              "      <td>0.118862</td>\n",
              "      <td>0.119420</td>\n",
              "      <td>0.118862</td>\n",
              "      <td>0.118862</td>\n",
              "      <td>0.092774</td>\n",
              "      <td>73449600</td>\n",
              "    </tr>\n",
              "    <tr>\n",
              "      <th>...</th>\n",
              "      <td>...</td>\n",
              "      <td>...</td>\n",
              "      <td>...</td>\n",
              "      <td>...</td>\n",
              "      <td>...</td>\n",
              "      <td>...</td>\n",
              "      <td>...</td>\n",
              "    </tr>\n",
              "    <tr>\n",
              "      <th>10463</th>\n",
              "      <td>2022-06-13</td>\n",
              "      <td>132.869995</td>\n",
              "      <td>135.199997</td>\n",
              "      <td>131.440002</td>\n",
              "      <td>131.880005</td>\n",
              "      <td>131.880005</td>\n",
              "      <td>122207100</td>\n",
              "    </tr>\n",
              "    <tr>\n",
              "      <th>10464</th>\n",
              "      <td>2022-06-14</td>\n",
              "      <td>133.130005</td>\n",
              "      <td>133.889999</td>\n",
              "      <td>131.479996</td>\n",
              "      <td>132.759995</td>\n",
              "      <td>132.759995</td>\n",
              "      <td>84784300</td>\n",
              "    </tr>\n",
              "    <tr>\n",
              "      <th>10465</th>\n",
              "      <td>2022-06-15</td>\n",
              "      <td>134.289993</td>\n",
              "      <td>137.339996</td>\n",
              "      <td>132.160004</td>\n",
              "      <td>135.429993</td>\n",
              "      <td>135.429993</td>\n",
              "      <td>91533000</td>\n",
              "    </tr>\n",
              "    <tr>\n",
              "      <th>10466</th>\n",
              "      <td>2022-06-16</td>\n",
              "      <td>132.080002</td>\n",
              "      <td>132.389999</td>\n",
              "      <td>129.039993</td>\n",
              "      <td>130.059998</td>\n",
              "      <td>130.059998</td>\n",
              "      <td>108123900</td>\n",
              "    </tr>\n",
              "    <tr>\n",
              "      <th>10467</th>\n",
              "      <td>2022-06-17</td>\n",
              "      <td>130.070007</td>\n",
              "      <td>133.080002</td>\n",
              "      <td>129.809998</td>\n",
              "      <td>131.559998</td>\n",
              "      <td>131.559998</td>\n",
              "      <td>134118500</td>\n",
              "    </tr>\n",
              "  </tbody>\n",
              "</table>\n",
              "<p>10468 rows × 7 columns</p>\n",
              "</div>\n",
              "      <button class=\"colab-df-convert\" onclick=\"convertToInteractive('df-2f82068d-5e94-4da2-be62-aebbf5947b50')\"\n",
              "              title=\"Convert this dataframe to an interactive table.\"\n",
              "              style=\"display:none;\">\n",
              "        \n",
              "  <svg xmlns=\"http://www.w3.org/2000/svg\" height=\"24px\"viewBox=\"0 0 24 24\"\n",
              "       width=\"24px\">\n",
              "    <path d=\"M0 0h24v24H0V0z\" fill=\"none\"/>\n",
              "    <path d=\"M18.56 5.44l.94 2.06.94-2.06 2.06-.94-2.06-.94-.94-2.06-.94 2.06-2.06.94zm-11 1L8.5 8.5l.94-2.06 2.06-.94-2.06-.94L8.5 2.5l-.94 2.06-2.06.94zm10 10l.94 2.06.94-2.06 2.06-.94-2.06-.94-.94-2.06-.94 2.06-2.06.94z\"/><path d=\"M17.41 7.96l-1.37-1.37c-.4-.4-.92-.59-1.43-.59-.52 0-1.04.2-1.43.59L10.3 9.45l-7.72 7.72c-.78.78-.78 2.05 0 2.83L4 21.41c.39.39.9.59 1.41.59.51 0 1.02-.2 1.41-.59l7.78-7.78 2.81-2.81c.8-.78.8-2.07 0-2.86zM5.41 20L4 18.59l7.72-7.72 1.47 1.35L5.41 20z\"/>\n",
              "  </svg>\n",
              "      </button>\n",
              "      \n",
              "  <style>\n",
              "    .colab-df-container {\n",
              "      display:flex;\n",
              "      flex-wrap:wrap;\n",
              "      gap: 12px;\n",
              "    }\n",
              "\n",
              "    .colab-df-convert {\n",
              "      background-color: #E8F0FE;\n",
              "      border: none;\n",
              "      border-radius: 50%;\n",
              "      cursor: pointer;\n",
              "      display: none;\n",
              "      fill: #1967D2;\n",
              "      height: 32px;\n",
              "      padding: 0 0 0 0;\n",
              "      width: 32px;\n",
              "    }\n",
              "\n",
              "    .colab-df-convert:hover {\n",
              "      background-color: #E2EBFA;\n",
              "      box-shadow: 0px 1px 2px rgba(60, 64, 67, 0.3), 0px 1px 3px 1px rgba(60, 64, 67, 0.15);\n",
              "      fill: #174EA6;\n",
              "    }\n",
              "\n",
              "    [theme=dark] .colab-df-convert {\n",
              "      background-color: #3B4455;\n",
              "      fill: #D2E3FC;\n",
              "    }\n",
              "\n",
              "    [theme=dark] .colab-df-convert:hover {\n",
              "      background-color: #434B5C;\n",
              "      box-shadow: 0px 1px 3px 1px rgba(0, 0, 0, 0.15);\n",
              "      filter: drop-shadow(0px 1px 2px rgba(0, 0, 0, 0.3));\n",
              "      fill: #FFFFFF;\n",
              "    }\n",
              "  </style>\n",
              "\n",
              "      <script>\n",
              "        const buttonEl =\n",
              "          document.querySelector('#df-2f82068d-5e94-4da2-be62-aebbf5947b50 button.colab-df-convert');\n",
              "        buttonEl.style.display =\n",
              "          google.colab.kernel.accessAllowed ? 'block' : 'none';\n",
              "\n",
              "        async function convertToInteractive(key) {\n",
              "          const element = document.querySelector('#df-2f82068d-5e94-4da2-be62-aebbf5947b50');\n",
              "          const dataTable =\n",
              "            await google.colab.kernel.invokeFunction('convertToInteractive',\n",
              "                                                     [key], {});\n",
              "          if (!dataTable) return;\n",
              "\n",
              "          const docLinkHtml = 'Like what you see? Visit the ' +\n",
              "            '<a target=\"_blank\" href=https://colab.research.google.com/notebooks/data_table.ipynb>data table notebook</a>'\n",
              "            + ' to learn more about interactive tables.';\n",
              "          element.innerHTML = '';\n",
              "          dataTable['output_type'] = 'display_data';\n",
              "          await google.colab.output.renderOutput(dataTable, element);\n",
              "          const docLink = document.createElement('div');\n",
              "          docLink.innerHTML = docLinkHtml;\n",
              "          element.appendChild(docLink);\n",
              "        }\n",
              "      </script>\n",
              "    </div>\n",
              "  </div>\n",
              "  "
            ]
          },
          "metadata": {},
          "execution_count": 6
        }
      ]
    },
    {
      "cell_type": "code",
      "source": [
        "df_train.info()"
      ],
      "metadata": {
        "colab": {
          "base_uri": "https://localhost:8080/"
        },
        "id": "AHY00NJQGlnf",
        "outputId": "6bcc04a5-0c12-4d75-c8c3-f5532c9b5dc2"
      },
      "execution_count": 7,
      "outputs": [
        {
          "output_type": "stream",
          "name": "stdout",
          "text": [
            "<class 'pandas.core.frame.DataFrame'>\n",
            "RangeIndex: 10468 entries, 0 to 10467\n",
            "Data columns (total 7 columns):\n",
            " #   Column     Non-Null Count  Dtype  \n",
            "---  ------     --------------  -----  \n",
            " 0   Date       10468 non-null  object \n",
            " 1   Open       10468 non-null  float64\n",
            " 2   High       10468 non-null  float64\n",
            " 3   Low        10468 non-null  float64\n",
            " 4   Close      10468 non-null  float64\n",
            " 5   Adj Close  10468 non-null  float64\n",
            " 6   Volume     10468 non-null  int64  \n",
            "dtypes: float64(5), int64(1), object(1)\n",
            "memory usage: 572.6+ KB\n"
          ]
        }
      ]
    },
    {
      "cell_type": "code",
      "source": [
        "df_train.shape"
      ],
      "metadata": {
        "colab": {
          "base_uri": "https://localhost:8080/"
        },
        "id": "GCssA1Z9HA6X",
        "outputId": "09a52528-80e4-4e1d-ed8d-6191115b4360"
      },
      "execution_count": 8,
      "outputs": [
        {
          "output_type": "execute_result",
          "data": {
            "text/plain": [
              "(10468, 7)"
            ]
          },
          "metadata": {},
          "execution_count": 8
        }
      ]
    },
    {
      "cell_type": "markdown",
      "source": [
        "Working on Open Column\n"
      ],
      "metadata": {
        "id": "chQwTEPlGLv9"
      }
    },
    {
      "cell_type": "code",
      "source": [
        "training_set = df_train.iloc[:,1:2]\n",
        "print(training_set)"
      ],
      "metadata": {
        "colab": {
          "base_uri": "https://localhost:8080/"
        },
        "id": "L5UcM8RsFhG_",
        "outputId": "2ab3bfa6-6714-47a0-d1f7-7726b986310e"
      },
      "execution_count": 9,
      "outputs": [
        {
          "output_type": "stream",
          "name": "stdout",
          "text": [
            "             Open\n",
            "0        0.128348\n",
            "1        0.122210\n",
            "2        0.113281\n",
            "3        0.115513\n",
            "4        0.118862\n",
            "...           ...\n",
            "10463  132.869995\n",
            "10464  133.130005\n",
            "10465  134.289993\n",
            "10466  132.080002\n",
            "10467  130.070007\n",
            "\n",
            "[10468 rows x 1 columns]\n"
          ]
        }
      ]
    },
    {
      "cell_type": "code",
      "source": [
        "from sklearn.preprocessing import MinMaxScaler\n",
        "\n",
        "scaler = MinMaxScaler(feature_range = (0,1))\n",
        "scaled_training_set = scaler.fit_transform(training_set)\n",
        "\n",
        "scaled_training_set"
      ],
      "metadata": {
        "colab": {
          "base_uri": "https://localhost:8080/"
        },
        "id": "siNaoduaVG6g",
        "outputId": "4aa89984-2c8b-4944-a2c4-2c6469925dc6"
      },
      "execution_count": 10,
      "outputs": [
        {
          "output_type": "execute_result",
          "data": {
            "text/plain": [
              "array([[4.30950014e-04],\n",
              "       [3.97331936e-04],\n",
              "       [3.48427437e-04],\n",
              "       ...,\n",
              "       [7.35239774e-01],\n",
              "       [7.23135563e-01],\n",
              "       [7.12126738e-01]])"
            ]
          },
          "metadata": {},
          "execution_count": 10
        }
      ]
    },
    {
      "cell_type": "markdown",
      "source": [
        "Using Close Value:\n"
      ],
      "metadata": {
        "id": "QXKreT2wfw2h"
      }
    },
    {
      "cell_type": "code",
      "source": [
        "data_close = df_train.reset_index()['Close']"
      ],
      "metadata": {
        "id": "v6EOD5Y0V7_v"
      },
      "execution_count": 11,
      "outputs": []
    },
    {
      "cell_type": "code",
      "source": [
        "data_close"
      ],
      "metadata": {
        "colab": {
          "base_uri": "https://localhost:8080/"
        },
        "id": "dOPY8Kbzc0Db",
        "outputId": "4909ca9b-6870-4d6e-af41-57380a6a7a0d"
      },
      "execution_count": 12,
      "outputs": [
        {
          "output_type": "execute_result",
          "data": {
            "text/plain": [
              "0          0.128348\n",
              "1          0.121652\n",
              "2          0.112723\n",
              "3          0.115513\n",
              "4          0.118862\n",
              "            ...    \n",
              "10463    131.880005\n",
              "10464    132.759995\n",
              "10465    135.429993\n",
              "10466    130.059998\n",
              "10467    131.559998\n",
              "Name: Close, Length: 10468, dtype: float64"
            ]
          },
          "metadata": {},
          "execution_count": 12
        }
      ]
    },
    {
      "cell_type": "code",
      "source": [
        "data_close.shape"
      ],
      "metadata": {
        "colab": {
          "base_uri": "https://localhost:8080/"
        },
        "id": "NgOQpwcHeAwo",
        "outputId": "4d04d568-8fec-471b-fab2-51f90a70f1c5"
      },
      "execution_count": 13,
      "outputs": [
        {
          "output_type": "execute_result",
          "data": {
            "text/plain": [
              "(10468,)"
            ]
          },
          "metadata": {},
          "execution_count": 13
        }
      ]
    },
    {
      "cell_type": "code",
      "source": [
        "import matplotlib.pyplot as plt\n",
        "plt.plot(data_close)"
      ],
      "metadata": {
        "colab": {
          "base_uri": "https://localhost:8080/",
          "height": 282
        },
        "id": "iRfwYTrOgLMp",
        "outputId": "c40bbea7-e5c4-4d51-ec94-4e87ed286d7c"
      },
      "execution_count": 14,
      "outputs": [
        {
          "output_type": "execute_result",
          "data": {
            "text/plain": [
              "[<matplotlib.lines.Line2D at 0x7f532dda5fd0>]"
            ]
          },
          "metadata": {},
          "execution_count": 14
        },
        {
          "output_type": "display_data",
          "data": {
            "text/plain": [
              "<Figure size 432x288 with 1 Axes>"
            ],
            "image/png": "[encoded data removed]"
          },
          "metadata": {
            "needs_background": "light"
          }
        }
      ]
    },
    {
      "cell_type": "code",
      "source": [
        "## LSTM are sensitive to scale of data so we have to apply MinMax Scaler\n",
        "\n",
        "from sklearn.preprocessing import MinMaxScaler\n",
        "scaler = MinMaxScaler(feature_range=(0,1))\n",
        "data = scaler.fit_transform(np.array(data_close).reshape(-1,1))"
      ],
      "metadata": {
        "id": "557X_R6OgQUf"
      },
      "execution_count": 15,
      "outputs": []
    },
    {
      "cell_type": "code",
      "source": [
        "data"
      ],
      "metadata": {
        "colab": {
          "base_uri": "https://localhost:8080/"
        },
        "id": "zpxqBLaUgydZ",
        "outputId": "300f537d-7165-4c3e-a44f-538edb50566e"
      },
      "execution_count": 16,
      "outputs": [
        {
          "output_type": "execute_result",
          "data": {
            "text/plain": [
              "array([[4.35483696e-04],\n",
              "       [3.98684579e-04],\n",
              "       [3.49613594e-04],\n",
              "       ...,\n",
              "       [7.44010911e-01],\n",
              "       [7.14499102e-01],\n",
              "       [7.22742631e-01]])"
            ]
          },
          "metadata": {},
          "execution_count": 16
        }
      ]
    },
    {
      "cell_type": "code",
      "source": [
        "data"
      ],
      "metadata": {
        "colab": {
          "base_uri": "https://localhost:8080/"
        },
        "id": "F2e5STvjhA5q",
        "outputId": "221f3f50-e72e-4702-f739-8d030b7a692a"
      },
      "execution_count": 17,
      "outputs": [
        {
          "output_type": "execute_result",
          "data": {
            "text/plain": [
              "array([[4.35483696e-04],\n",
              "       [3.98684579e-04],\n",
              "       [3.49613594e-04],\n",
              "       ...,\n",
              "       [7.44010911e-01],\n",
              "       [7.14499102e-01],\n",
              "       [7.22742631e-01]])"
            ]
          },
          "metadata": {},
          "execution_count": 17
        }
      ]
    },
    {
      "cell_type": "markdown",
      "source": [
        "In case of **time series data** , we shouldnt split the data based on Cross Validation or Random Seed. We should split the test on the basis of different days as each day may depend on the previous day. We cannot take Random days Stock's and train with it for the Future.\n"
      ],
      "metadata": {
        "id": "earMaAmgh3u-"
      }
    },
    {
      "cell_type": "code",
      "source": [
        "#Splitting into Train nd Test\n",
        "training_size = int(len(data)*0.65)\n",
        "test_size = len(data)-training_size\n",
        "training_data , test_data = data[0:training_size,:],data[training_size:len(data),:1]\n"
      ],
      "metadata": {
        "id": "WR0BeNmbhRoo"
      },
      "execution_count": 18,
      "outputs": []
    },
    {
      "cell_type": "code",
      "source": [
        "training_size , test_size"
      ],
      "metadata": {
        "colab": {
          "base_uri": "https://localhost:8080/"
        },
        "id": "Bj_uEIVVt8yW",
        "outputId": "b94afec4-5ba5-4ecf-c11f-2e18cdddf41a"
      },
      "execution_count": 19,
      "outputs": [
        {
          "output_type": "execute_result",
          "data": {
            "text/plain": [
              "(6804, 3664)"
            ]
          },
          "metadata": {},
          "execution_count": 19
        }
      ]
    },
    {
      "cell_type": "code",
      "source": [
        "training_data"
      ],
      "metadata": {
        "colab": {
          "base_uri": "https://localhost:8080/"
        },
        "id": "6dkdpKDKuLBP",
        "outputId": "4d4310ce-f4d1-4329-84e3-ff4148a317c0"
      },
      "execution_count": 20,
      "outputs": [
        {
          "output_type": "execute_result",
          "data": {
            "text/plain": [
              "array([[0.00043548],\n",
              "       [0.00039868],\n",
              "       [0.00034961],\n",
              "       ...,\n",
              "       [0.03359533],\n",
              "       [0.03404087],\n",
              "       [0.03510272]])"
            ]
          },
          "metadata": {},
          "execution_count": 20
        }
      ]
    },
    {
      "cell_type": "code",
      "source": [
        "test_data"
      ],
      "metadata": {
        "colab": {
          "base_uri": "https://localhost:8080/"
        },
        "id": "UP4Y3i8Dua-m",
        "outputId": "af0ab460-cb31-4b5c-a957-2e10b5994b02"
      },
      "execution_count": 21,
      "outputs": [
        {
          "output_type": "execute_result",
          "data": {
            "text/plain": [
              "array([[0.03590156],\n",
              "       [0.03549527],\n",
              "       [0.03483578],\n",
              "       ...,\n",
              "       [0.74401091],\n",
              "       [0.7144991 ],\n",
              "       [0.72274263]])"
            ]
          },
          "metadata": {},
          "execution_count": 21
        }
      ]
    },
    {
      "cell_type": "markdown",
      "source": [
        "**PRE_PROCESSING**"
      ],
      "metadata": {
        "id": "7nbScs-bvXDm"
      }
    },
    {
      "cell_type": "code",
      "source": [
        "#We will process in such a way that we will take timestamps and use these timestamps to split into \n",
        "#out X_train Y_train and X-test and Y_test\n",
        "\n",
        "#We will create a timestamp of 3 for example:\n",
        "#We will have 3 days of Stock market closing rates with us and will give the computer the output to it which is Day 4's Closing rate.\n",
        "#Similiarly now we will move a day forward and use Closing Rates of Day2 , Day3 , Day4 and give the output of Day5 to the computer to process it.\n",
        "#This will be our Training Split.\n",
        "\n",
        "#Similiarly we will do in Test Split\n"
      ],
      "metadata": {
        "id": "bJWhdMmzuecc"
      },
      "execution_count": 22,
      "outputs": []
    },
    {
      "cell_type": "code",
      "source": [
        "import numpy\n",
        "\n",
        "def create_matrix(dataset,time_step=1):\n",
        "  dataX , dataY = [] , []\n",
        "  for i in range(len(dataset)-time_step-1):\n",
        "    a = dataset[i:(i+time_step),0]  #i=0 , 0,1,2,3 4th will be appended in next line of code if time_step = 3\n",
        "    dataX.append(a)     #Contains all values from 1 to Time_step\n",
        "    dataY.append(dataset[i+time_step , 0])   #Contains just the end value to Time_step\n",
        "  return numpy.array(dataX) , numpy.array(dataY)\n",
        "\n"
      ],
      "metadata": {
        "id": "dX72dYjWwMsR"
      },
      "execution_count": 23,
      "outputs": []
    },
    {
      "cell_type": "code",
      "source": [
        "#shaping into X=t , t+1 , t+2 , t+3 and t+4\n",
        "\n",
        "time_step = 100\n",
        "X_train, y_train = create_matrix(training_data, time_step)\n",
        "X_test , y_test = create_matrix(test_data , time_step)"
      ],
      "metadata": {
        "id": "lSlg6wbyw_2h"
      },
      "execution_count": 24,
      "outputs": []
    },
    {
      "cell_type": "code",
      "source": [
        "X_train"
      ],
      "metadata": {
        "colab": {
          "base_uri": "https://localhost:8080/"
        },
        "id": "XMyDMhpQxWRU",
        "outputId": "8885ba85-249d-476a-9fdc-d821aa33999a"
      },
      "execution_count": 25,
      "outputs": [
        {
          "output_type": "execute_result",
          "data": {
            "text/plain": [
              "array([[0.00043548, 0.00039868, 0.00034961, ..., 0.00042322, 0.00042015,\n",
              "        0.00040175],\n",
              "       [0.00039868, 0.00034961, 0.00036495, ..., 0.00042015, 0.00040175,\n",
              "        0.00041095],\n",
              "       [0.00034961, 0.00036495, 0.00038335, ..., 0.00040175, 0.00041095,\n",
              "        0.00041708],\n",
              "       ...,\n",
              "       [0.02469036, 0.02578556, 0.02569724, ..., 0.03190933, 0.03287108,\n",
              "        0.03279453],\n",
              "       [0.02578556, 0.02569724, 0.02531058, ..., 0.03287108, 0.03279453,\n",
              "        0.03339906],\n",
              "       [0.02569724, 0.02531058, 0.02570706, ..., 0.03279453, 0.03339906,\n",
              "        0.03359533]])"
            ]
          },
          "metadata": {},
          "execution_count": 25
        }
      ]
    },
    {
      "cell_type": "code",
      "source": [
        "X_train.shape #Contains all 6703 rows with 100 columns of values"
      ],
      "metadata": {
        "colab": {
          "base_uri": "https://localhost:8080/"
        },
        "id": "N_qDa2Y1yIer",
        "outputId": "69426f40-ce97-4124-f1ea-449df55fe18b"
      },
      "execution_count": 26,
      "outputs": [
        {
          "output_type": "execute_result",
          "data": {
            "text/plain": [
              "(6703, 100)"
            ]
          },
          "metadata": {},
          "execution_count": 26
        }
      ]
    },
    {
      "cell_type": "code",
      "source": [
        "y_train.shape  #Contains all 6703 rows with 1 column that is output of those values"
      ],
      "metadata": {
        "colab": {
          "base_uri": "https://localhost:8080/"
        },
        "id": "-G5uDxz7zMdK",
        "outputId": "dd87a2c0-de14-46e5-a114-a31b4b04b3ad"
      },
      "execution_count": 27,
      "outputs": [
        {
          "output_type": "execute_result",
          "data": {
            "text/plain": [
              "(6703,)"
            ]
          },
          "metadata": {},
          "execution_count": 27
        }
      ]
    },
    {
      "cell_type": "markdown",
      "source": [
        "CREATING A LSTM MODEL\n"
      ],
      "metadata": {
        "id": "E80XkABWzsE1"
      }
    },
    {
      "cell_type": "code",
      "source": [
        "#Re-shaping input to give to LSTM into 3-D so we will add another dimension to it\n",
        "\n",
        "X_train = X_train.reshape(X_train.shape[0] , X_train.shape[1] , 1)\n",
        "X_test = X_test.reshape(X_test.shape[0] , X_test.shape[1] , 1)"
      ],
      "metadata": {
        "id": "7lOdWZc2zUq5"
      },
      "execution_count": 28,
      "outputs": []
    },
    {
      "cell_type": "code",
      "source": [
        "#LSTM model\n",
        "\n",
        "from tensorflow.keras.models import Sequential\n",
        "from tensorflow.keras.layers import Dense\n",
        "from tensorflow.keras.layers import LSTM\n"
      ],
      "metadata": {
        "id": "s-TVtEMj0LpY"
      },
      "execution_count": 29,
      "outputs": []
    },
    {
      "cell_type": "code",
      "source": [
        "#Stacked LSTM\n",
        "model = Sequential()\n",
        "model.add(LSTM(50 , return_sequences = True , input_shape=(100,1)))\n",
        "model.add(LSTM(50,return_sequences=True))\n",
        "model.add(LSTM(50))\n",
        "model.add(Dense(1))\n",
        "model.compile(loss = 'mean_squared_error', optimizer = 'adam')\n"
      ],
      "metadata": {
        "id": "v48hW0EE0uPC"
      },
      "execution_count": 30,
      "outputs": []
    },
    {
      "cell_type": "code",
      "source": [
        "#The 50 after LSTM means 50 internal Layers in that particular LSTM\n",
        "#Return_sequence have to understand properlyj"
      ],
      "metadata": {
        "id": "8-mwgbBM24ti"
      },
      "execution_count": 31,
      "outputs": []
    },
    {
      "cell_type": "code",
      "source": [
        "model.summary()"
      ],
      "metadata": {
        "colab": {
          "base_uri": "https://localhost:8080/"
        },
        "id": "UgkGSCoV1KqO",
        "outputId": "6df1b086-4942-4658-d82e-88af34cd61f7"
      },
      "execution_count": 32,
      "outputs": [
        {
          "output_type": "stream",
          "name": "stdout",
          "text": [
            "Model: \"sequential\"\n",
            "_________________________________________________________________\n",
            " Layer (type)                Output Shape              Param #   \n",
            "=================================================================\n",
            " lstm (LSTM)                 (None, 100, 50)           10400     \n",
            "                                                                 \n",
            " lstm_1 (LSTM)               (None, 100, 50)           20200     \n",
            "                                                                 \n",
            " lstm_2 (LSTM)               (None, 50)                20200     \n",
            "                                                                 \n",
            " dense (Dense)               (None, 1)                 51        \n",
            "                                                                 \n",
            "=================================================================\n",
            "Total params: 50,851\n",
            "Trainable params: 50,851\n",
            "Non-trainable params: 0\n",
            "_________________________________________________________________\n"
          ]
        }
      ]
    },
    {
      "cell_type": "code",
      "source": [
        "model.fit(X_train , y_train , validation_data = (X_test,y_test) , epochs=100 , batch_size=64 , verbose=1)"
      ],
      "metadata": {
        "colab": {
          "base_uri": "https://localhost:8080/"
        },
        "id": "p7p-N9OD1eaY",
        "outputId": "378e767c-61c6-49ae-f021-a1ed962bf38a"
      },
      "execution_count": 33,
      "outputs": [
        {
          "output_type": "stream",
          "name": "stdout",
          "text": [
            "Epoch 1/100\n",
            "105/105 [==============================] - 21s 156ms/step - loss: 1.8864e-05 - val_loss: 0.0069\n",
            "Epoch 2/100\n",
            "105/105 [==============================] - 15s 146ms/step - loss: 3.1007e-07 - val_loss: 0.0044\n",
            "Epoch 3/100\n",
            "105/105 [==============================] - 15s 145ms/step - loss: 4.2140e-07 - val_loss: 0.0042\n",
            "Epoch 4/100\n",
            "105/105 [==============================] - 15s 144ms/step - loss: 4.6725e-07 - val_loss: 0.0043\n",
            "Epoch 5/100\n",
            "105/105 [==============================] - 15s 147ms/step - loss: 3.6738e-07 - val_loss: 0.0041\n",
            "Epoch 6/100\n",
            "105/105 [==============================] - 15s 146ms/step - loss: 2.8325e-07 - val_loss: 0.0039\n",
            "Epoch 7/100\n",
            "105/105 [==============================] - 15s 146ms/step - loss: 2.7555e-07 - val_loss: 0.0035\n",
            "Epoch 8/100\n",
            "105/105 [==============================] - 15s 146ms/step - loss: 3.3094e-07 - val_loss: 0.0024\n",
            "Epoch 9/100\n",
            "105/105 [==============================] - 15s 146ms/step - loss: 2.7504e-07 - val_loss: 0.0023\n",
            "Epoch 10/100\n",
            "105/105 [==============================] - 15s 145ms/step - loss: 3.2072e-07 - val_loss: 0.0025\n",
            "Epoch 11/100\n",
            "105/105 [==============================] - 15s 145ms/step - loss: 2.6896e-07 - val_loss: 0.0027\n",
            "Epoch 12/100\n",
            "105/105 [==============================] - 15s 146ms/step - loss: 2.3345e-07 - val_loss: 0.0017\n",
            "Epoch 13/100\n",
            "105/105 [==============================] - 15s 145ms/step - loss: 2.7248e-07 - val_loss: 0.0019\n",
            "Epoch 14/100\n",
            "105/105 [==============================] - 15s 147ms/step - loss: 3.1664e-07 - val_loss: 0.0014\n",
            "Epoch 15/100\n",
            "105/105 [==============================] - 15s 147ms/step - loss: 2.5897e-07 - val_loss: 0.0015\n",
            "Epoch 16/100\n",
            "105/105 [==============================] - 15s 146ms/step - loss: 3.8315e-07 - val_loss: 0.0015\n",
            "Epoch 17/100\n",
            "105/105 [==============================] - 15s 148ms/step - loss: 2.8088e-07 - val_loss: 0.0032\n",
            "Epoch 18/100\n",
            "105/105 [==============================] - 16s 151ms/step - loss: 3.1628e-07 - val_loss: 0.0018\n",
            "Epoch 19/100\n",
            "105/105 [==============================] - 15s 146ms/step - loss: 2.4401e-07 - val_loss: 0.0018\n",
            "Epoch 20/100\n",
            "105/105 [==============================] - 15s 145ms/step - loss: 2.1424e-07 - val_loss: 0.0012\n",
            "Epoch 21/100\n",
            "105/105 [==============================] - 15s 146ms/step - loss: 2.2245e-07 - val_loss: 0.0018\n",
            "Epoch 22/100\n",
            "105/105 [==============================] - 15s 147ms/step - loss: 2.2839e-07 - val_loss: 9.7619e-04\n",
            "Epoch 23/100\n",
            "105/105 [==============================] - 15s 145ms/step - loss: 2.3553e-07 - val_loss: 0.0017\n",
            "Epoch 24/100\n",
            "105/105 [==============================] - 15s 147ms/step - loss: 2.7155e-07 - val_loss: 0.0013\n",
            "Epoch 25/100\n",
            "105/105 [==============================] - 15s 147ms/step - loss: 2.2268e-07 - val_loss: 0.0019\n",
            "Epoch 26/100\n",
            "105/105 [==============================] - 15s 147ms/step - loss: 2.4522e-07 - val_loss: 0.0012\n",
            "Epoch 27/100\n",
            "105/105 [==============================] - 15s 147ms/step - loss: 2.8625e-07 - val_loss: 0.0014\n",
            "Epoch 28/100\n",
            "105/105 [==============================] - 15s 147ms/step - loss: 2.6917e-07 - val_loss: 0.0012\n",
            "Epoch 29/100\n",
            "105/105 [==============================] - 15s 146ms/step - loss: 4.1196e-07 - val_loss: 0.0017\n",
            "Epoch 30/100\n",
            "105/105 [==============================] - 15s 147ms/step - loss: 1.7132e-07 - val_loss: 0.0017\n",
            "Epoch 31/100\n",
            "105/105 [==============================] - 16s 148ms/step - loss: 2.2862e-07 - val_loss: 0.0023\n",
            "Epoch 32/100\n",
            "105/105 [==============================] - 15s 146ms/step - loss: 2.0514e-07 - val_loss: 0.0018\n",
            "Epoch 33/100\n",
            "105/105 [==============================] - 15s 147ms/step - loss: 1.7309e-07 - val_loss: 0.0019\n",
            "Epoch 34/100\n",
            "105/105 [==============================] - 15s 147ms/step - loss: 1.9314e-07 - val_loss: 0.0016\n",
            "Epoch 35/100\n",
            "105/105 [==============================] - 16s 149ms/step - loss: 3.0856e-07 - val_loss: 0.0018\n",
            "Epoch 36/100\n",
            "105/105 [==============================] - 17s 159ms/step - loss: 1.6628e-07 - val_loss: 0.0022\n",
            "Epoch 37/100\n",
            "105/105 [==============================] - 16s 149ms/step - loss: 1.5790e-07 - val_loss: 0.0012\n",
            "Epoch 38/100\n",
            "105/105 [==============================] - 16s 151ms/step - loss: 1.7182e-07 - val_loss: 0.0014\n",
            "Epoch 39/100\n",
            "105/105 [==============================] - 16s 151ms/step - loss: 2.0089e-07 - val_loss: 0.0021\n",
            "Epoch 40/100\n",
            "105/105 [==============================] - 16s 150ms/step - loss: 2.8174e-07 - val_loss: 0.0024\n",
            "Epoch 41/100\n",
            "105/105 [==============================] - 16s 151ms/step - loss: 1.9338e-07 - val_loss: 0.0021\n",
            "Epoch 42/100\n",
            "105/105 [==============================] - 16s 150ms/step - loss: 1.9097e-07 - val_loss: 0.0015\n",
            "Epoch 43/100\n",
            "105/105 [==============================] - 16s 148ms/step - loss: 1.5180e-07 - val_loss: 0.0012\n",
            "Epoch 44/100\n",
            "105/105 [==============================] - 15s 147ms/step - loss: 1.9334e-07 - val_loss: 0.0015\n",
            "Epoch 45/100\n",
            "105/105 [==============================] - 15s 146ms/step - loss: 1.9584e-07 - val_loss: 0.0022\n",
            "Epoch 46/100\n",
            "105/105 [==============================] - 15s 147ms/step - loss: 2.5031e-07 - val_loss: 0.0031\n",
            "Epoch 47/100\n",
            "105/105 [==============================] - 15s 148ms/step - loss: 1.3660e-07 - val_loss: 0.0021\n",
            "Epoch 48/100\n",
            "105/105 [==============================] - 16s 148ms/step - loss: 1.6074e-07 - val_loss: 0.0021\n",
            "Epoch 49/100\n",
            "105/105 [==============================] - 16s 148ms/step - loss: 1.4684e-07 - val_loss: 0.0024\n",
            "Epoch 50/100\n",
            "105/105 [==============================] - 15s 148ms/step - loss: 1.6802e-07 - val_loss: 0.0033\n",
            "Epoch 51/100\n",
            "105/105 [==============================] - 16s 149ms/step - loss: 1.8960e-07 - val_loss: 0.0021\n",
            "Epoch 52/100\n",
            "105/105 [==============================] - 16s 148ms/step - loss: 1.3018e-07 - val_loss: 0.0023\n",
            "Epoch 53/100\n",
            "105/105 [==============================] - 15s 146ms/step - loss: 1.7482e-07 - val_loss: 0.0017\n",
            "Epoch 54/100\n",
            "105/105 [==============================] - 15s 146ms/step - loss: 1.4988e-07 - val_loss: 0.0023\n",
            "Epoch 55/100\n",
            "105/105 [==============================] - 16s 148ms/step - loss: 1.1692e-07 - val_loss: 0.0021\n",
            "Epoch 56/100\n",
            "105/105 [==============================] - 16s 150ms/step - loss: 1.4816e-07 - val_loss: 0.0020\n",
            "Epoch 57/100\n",
            "105/105 [==============================] - 16s 149ms/step - loss: 1.8113e-07 - val_loss: 0.0020\n",
            "Epoch 58/100\n",
            "105/105 [==============================] - 15s 147ms/step - loss: 1.6542e-07 - val_loss: 0.0021\n",
            "Epoch 59/100\n",
            "105/105 [==============================] - 16s 154ms/step - loss: 1.4069e-07 - val_loss: 0.0025\n",
            "Epoch 60/100\n",
            "105/105 [==============================] - 16s 156ms/step - loss: 1.4107e-07 - val_loss: 0.0025\n",
            "Epoch 61/100\n",
            "105/105 [==============================] - 16s 152ms/step - loss: 1.7881e-07 - val_loss: 0.0018\n",
            "Epoch 62/100\n",
            "105/105 [==============================] - 16s 155ms/step - loss: 2.1072e-07 - val_loss: 0.0030\n",
            "Epoch 63/100\n",
            "105/105 [==============================] - 16s 152ms/step - loss: 1.2547e-07 - val_loss: 0.0027\n",
            "Epoch 64/100\n",
            "105/105 [==============================] - 16s 154ms/step - loss: 1.1951e-07 - val_loss: 0.0021\n",
            "Epoch 65/100\n",
            "105/105 [==============================] - 16s 151ms/step - loss: 1.2058e-07 - val_loss: 0.0025\n",
            "Epoch 66/100\n",
            "105/105 [==============================] - 16s 153ms/step - loss: 1.5195e-07 - val_loss: 0.0026\n",
            "Epoch 67/100\n",
            "105/105 [==============================] - 16s 153ms/step - loss: 1.2447e-07 - val_loss: 0.0024\n",
            "Epoch 68/100\n",
            "105/105 [==============================] - 16s 157ms/step - loss: 1.8414e-07 - val_loss: 0.0030\n",
            "Epoch 69/100\n",
            "105/105 [==============================] - 17s 160ms/step - loss: 1.7658e-07 - val_loss: 0.0029\n",
            "Epoch 70/100\n",
            "105/105 [==============================] - 17s 162ms/step - loss: 1.0718e-07 - val_loss: 0.0030\n",
            "Epoch 71/100\n",
            "105/105 [==============================] - 29s 273ms/step - loss: 1.1606e-07 - val_loss: 0.0026\n",
            "Epoch 72/100\n",
            "105/105 [==============================] - 39s 370ms/step - loss: 1.1545e-07 - val_loss: 0.0032\n",
            "Epoch 73/100\n",
            "105/105 [==============================] - 42s 402ms/step - loss: 1.1650e-07 - val_loss: 0.0032\n",
            "Epoch 74/100\n",
            "105/105 [==============================] - 40s 381ms/step - loss: 1.2616e-07 - val_loss: 0.0025\n",
            "Epoch 75/100\n",
            "105/105 [==============================] - 40s 383ms/step - loss: 1.4817e-07 - val_loss: 0.0032\n",
            "Epoch 76/100\n",
            "105/105 [==============================] - 19s 183ms/step - loss: 1.3619e-07 - val_loss: 0.0034\n",
            "Epoch 77/100\n",
            "105/105 [==============================] - 17s 161ms/step - loss: 1.2198e-07 - val_loss: 0.0035\n",
            "Epoch 78/100\n",
            "105/105 [==============================] - 17s 158ms/step - loss: 1.2357e-07 - val_loss: 0.0035\n",
            "Epoch 79/100\n",
            "105/105 [==============================] - 16s 154ms/step - loss: 1.6821e-07 - val_loss: 0.0035\n",
            "Epoch 80/100\n",
            "105/105 [==============================] - 16s 152ms/step - loss: 1.4536e-07 - val_loss: 0.0043\n",
            "Epoch 81/100\n",
            "105/105 [==============================] - 16s 154ms/step - loss: 1.3445e-07 - val_loss: 0.0028\n",
            "Epoch 82/100\n",
            "105/105 [==============================] - 16s 153ms/step - loss: 1.3580e-07 - val_loss: 0.0039\n",
            "Epoch 83/100\n",
            "105/105 [==============================] - 16s 151ms/step - loss: 1.5342e-07 - val_loss: 0.0037\n",
            "Epoch 84/100\n",
            "105/105 [==============================] - 16s 153ms/step - loss: 1.2834e-07 - val_loss: 0.0033\n",
            "Epoch 85/100\n",
            "105/105 [==============================] - 16s 153ms/step - loss: 1.2292e-07 - val_loss: 0.0038\n",
            "Epoch 86/100\n",
            "105/105 [==============================] - 16s 153ms/step - loss: 1.0534e-07 - val_loss: 0.0036\n",
            "Epoch 87/100\n",
            "105/105 [==============================] - 16s 153ms/step - loss: 1.0873e-07 - val_loss: 0.0044\n",
            "Epoch 88/100\n",
            "105/105 [==============================] - 16s 155ms/step - loss: 9.2306e-08 - val_loss: 0.0034\n",
            "Epoch 89/100\n",
            "105/105 [==============================] - 16s 155ms/step - loss: 1.4876e-07 - val_loss: 0.0037\n",
            "Epoch 90/100\n",
            "105/105 [==============================] - 16s 153ms/step - loss: 9.9081e-08 - val_loss: 0.0033\n",
            "Epoch 91/100\n",
            "105/105 [==============================] - 16s 156ms/step - loss: 8.0092e-08 - val_loss: 0.0043\n",
            "Epoch 92/100\n",
            "105/105 [==============================] - 16s 154ms/step - loss: 8.9648e-08 - val_loss: 0.0037\n",
            "Epoch 93/100\n",
            "105/105 [==============================] - 17s 160ms/step - loss: 9.1360e-08 - val_loss: 0.0036\n",
            "Epoch 94/100\n",
            "105/105 [==============================] - 16s 152ms/step - loss: 1.2028e-07 - val_loss: 0.0041\n",
            "Epoch 95/100\n",
            "105/105 [==============================] - 16s 153ms/step - loss: 1.3637e-07 - val_loss: 0.0045\n",
            "Epoch 96/100\n",
            "105/105 [==============================] - 16s 152ms/step - loss: 9.9047e-08 - val_loss: 0.0042\n",
            "Epoch 97/100\n",
            "105/105 [==============================] - 16s 149ms/step - loss: 1.0618e-07 - val_loss: 0.0045\n",
            "Epoch 98/100\n",
            "105/105 [==============================] - 15s 148ms/step - loss: 8.8202e-08 - val_loss: 0.0042\n",
            "Epoch 99/100\n",
            "105/105 [==============================] - 16s 150ms/step - loss: 8.8266e-08 - val_loss: 0.0041\n",
            "Epoch 100/100\n",
            "105/105 [==============================] - 16s 149ms/step - loss: 1.0077e-07 - val_loss: 0.0044\n"
          ]
        },
        {
          "output_type": "execute_result",
          "data": {
            "text/plain": [
              "<keras.callbacks.History at 0x7f52ccc7e5d0>"
            ]
          },
          "metadata": {},
          "execution_count": 33
        }
      ]
    },
    {
      "cell_type": "markdown",
      "source": [
        "**PREDICTION**"
      ],
      "metadata": {
        "id": "pc3elQUa2Asa"
      }
    },
    {
      "cell_type": "code",
      "source": [
        "#Doing prediction\n",
        "train_predict = model.predict(X_train)\n",
        "test_predict = model.predict(X_test)"
      ],
      "metadata": {
        "id": "M7vEjdy91tWm"
      },
      "execution_count": 34,
      "outputs": []
    },
    {
      "cell_type": "code",
      "source": [
        "#Transforming back to original form\n",
        "train_predict = scaler.inverse_transform(train_predict)\n",
        "test_predict = scaler.inverse_transform(test_predict)"
      ],
      "metadata": {
        "id": "gy4iMYqZy1MV"
      },
      "execution_count": 35,
      "outputs": []
    },
    {
      "cell_type": "code",
      "source": [
        "train_predict.shape"
      ],
      "metadata": {
        "colab": {
          "base_uri": "https://localhost:8080/"
        },
        "id": "GdlIXACfz8Id",
        "outputId": "4cc0fbc8-6213-45ea-edbe-6a94f69fcbbe"
      },
      "execution_count": 36,
      "outputs": [
        {
          "output_type": "execute_result",
          "data": {
            "text/plain": [
              "(6703, 1)"
            ]
          },
          "metadata": {},
          "execution_count": 36
        }
      ]
    },
    {
      "cell_type": "code",
      "source": [
        "import math\n",
        "from sklearn.metrics import mean_squared_error\n",
        "math.sqrt(mean_squared_error(y_train , train_predict))"
      ],
      "metadata": {
        "colab": {
          "base_uri": "https://localhost:8080/"
        },
        "id": "p_wuKhDu0XkV",
        "outputId": "05c0448f-8340-4633-ff8c-2ae490d09249"
      },
      "execution_count": 37,
      "outputs": [
        {
          "output_type": "execute_result",
          "data": {
            "text/plain": [
              "1.0789887389330086"
            ]
          },
          "metadata": {},
          "execution_count": 37
        }
      ]
    },
    {
      "cell_type": "code",
      "source": [
        "math.sqrt(mean_squared_error(y_test , test_predict))"
      ],
      "metadata": {
        "colab": {
          "base_uri": "https://localhost:8080/"
        },
        "id": "AeN8HMa6AST2",
        "outputId": "4f19175f-00a5-4d41-b6c0-39285c56124b"
      },
      "execution_count": 38,
      "outputs": [
        {
          "output_type": "execute_result",
          "data": {
            "text/plain": [
              "49.25636598917839"
            ]
          },
          "metadata": {},
          "execution_count": 38
        }
      ]
    },
    {
      "cell_type": "markdown",
      "source": [
        "**PLOTTING**"
      ],
      "metadata": {
        "id": "h-gfLO0KYmRW"
      }
    },
    {
      "cell_type": "code",
      "source": [
        "plt.plot(train_predict)"
      ],
      "metadata": {
        "colab": {
          "base_uri": "https://localhost:8080/",
          "height": 286
        },
        "id": "kVZhApJYWwdK",
        "outputId": "9a964490-74e1-4aea-dc1f-816cd8037781"
      },
      "execution_count": 39,
      "outputs": [
        {
          "output_type": "execute_result",
          "data": {
            "text/plain": [
              "[<matplotlib.lines.Line2D at 0x7f52c085c390>]"
            ]
          },
          "metadata": {},
          "execution_count": 39
        },
        {
          "output_type": "display_data",
          "data": {
            "text/plain": [
              "<Figure size 432x288 with 1 Axes>"
            ],
            "image/png": "[encoded data removed]"
          },
          "metadata": {
            "needs_background": "light"
          }
        }
      ]
    },
    {
      "cell_type": "code",
      "source": [
        "plt.plot(test_predict)"
      ],
      "metadata": {
        "colab": {
          "base_uri": "https://localhost:8080/",
          "height": 282
        },
        "id": "oybhLogXXAxg",
        "outputId": "3753533b-4ab4-402f-dd8b-445fd2d5cee6"
      },
      "execution_count": 40,
      "outputs": [
        {
          "output_type": "execute_result",
          "data": {
            "text/plain": [
              "[<matplotlib.lines.Line2D at 0x7f52c0774e10>]"
            ]
          },
          "metadata": {},
          "execution_count": 40
        },
        {
          "output_type": "display_data",
          "data": {
            "text/plain": [
              "<Figure size 432x288 with 1 Axes>"
            ],
            "image/png": "[encoded data removed]"
          },
          "metadata": {
            "needs_background": "light"
          }
        }
      ]
    },
    {
      "cell_type": "code",
      "source": [
        "plt.plot(data_close)"
      ],
      "metadata": {
        "colab": {
          "base_uri": "https://localhost:8080/",
          "height": 282
        },
        "id": "DW6gnVg7XFBR",
        "outputId": "97fc2bb1-4cda-4b51-91d9-2f7ea4dca086"
      },
      "execution_count": 41,
      "outputs": [
        {
          "output_type": "execute_result",
          "data": {
            "text/plain": [
              "[<matplotlib.lines.Line2D at 0x7f52c07bde50>]"
            ]
          },
          "metadata": {},
          "execution_count": 41
        },
        {
          "output_type": "display_data",
          "data": {
            "text/plain": [
              "<Figure size 432x288 with 1 Axes>"
            ],
            "image/png": "[encoded data removed]"
          },
          "metadata": {
            "needs_background": "light"
          }
        }
      ]
    },
    {
      "cell_type": "markdown",
      "source": [
        "**Prediction of other day**"
      ],
      "metadata": {
        "id": "tcTX9Ty_Yp6r"
      }
    },
    {
      "cell_type": "code",
      "source": [
        "len(test_data) "
      ],
      "metadata": {
        "colab": {
          "base_uri": "https://localhost:8080/"
        },
        "id": "p-kvf8AeZPdy",
        "outputId": "cb2ee720-0bac-45ad-9e8f-e0c1f4906236"
      },
      "execution_count": 42,
      "outputs": [
        {
          "output_type": "execute_result",
          "data": {
            "text/plain": [
              "3664"
            ]
          },
          "metadata": {},
          "execution_count": 42
        }
      ]
    },
    {
      "cell_type": "code",
      "source": [
        "#To predict next day we need latest 100 days of data\n",
        "x_input=test_data[3564:].reshape(1,-1)\n",
        "x_input.shape"
      ],
      "metadata": {
        "colab": {
          "base_uri": "https://localhost:8080/"
        },
        "id": "18befTaeYT_A",
        "outputId": "1401802b-0d87-43a8-c94d-62dbe872c33c"
      },
      "execution_count": 43,
      "outputs": [
        {
          "output_type": "execute_result",
          "data": {
            "text/plain": [
              "(1, 100)"
            ]
          },
          "metadata": {},
          "execution_count": 43
        }
      ]
    },
    {
      "cell_type": "code",
      "source": [
        "temp_input=list(x_input)\n",
        "temp_input=temp_input[0].tolist()"
      ],
      "metadata": {
        "id": "lzO0DoZwZHG4"
      },
      "execution_count": 44,
      "outputs": []
    },
    {
      "cell_type": "code",
      "source": [
        "temp_input"
      ],
      "metadata": {
        "colab": {
          "base_uri": "https://localhost:8080/"
        },
        "id": "6ZqHKf0zZgFp",
        "outputId": "ebebbdb3-8e80-4d27-dec5-248ec4790dc2"
      },
      "execution_count": 45,
      "outputs": [
        {
          "output_type": "execute_result",
          "data": {
            "text/plain": [
              "[0.8773363152635306,\n",
              " 0.8747533371017621,\n",
              " 0.9358104198744073,\n",
              " 0.9602662084172725,\n",
              " 0.9593319526996372,\n",
              " 0.9660916196452064,\n",
              " 0.949934290274512,\n",
              " 0.9471315176259195,\n",
              " 0.9431196939421398,\n",
              " 0.9605410092305111,\n",
              " 0.9685097382026405,\n",
              " 0.9456476602818072,\n",
              " 0.9265226931624997,\n",
              " 0.9278416909022779,\n",
              " 0.949329759261232,\n",
              " 0.9480108494524383,\n",
              " 0.9278416909022779,\n",
              " 0.9191584952036506,\n",
              " 0.9027813713461323,\n",
              " 0.8794247036209232,\n",
              " 0.8940981756475049,\n",
              " 0.9056940797079425,\n",
              " 0.9071778546167568,\n",
              " 0.896626147482859,\n",
              " 0.9150916596977697,\n",
              " 0.9132780721536157,\n",
              " 0.8964612823828381,\n",
              " 0.8751930030150215,\n",
              " 0.8649710205854787,\n",
              " 0.8952522258519643,\n",
              " 0.8709063730223167,\n",
              " 0.8500776771324615,\n",
              " 0.8274904000248667,\n",
              " 0.8520561242809499,\n",
              " 0.8767867136370536,\n",
              " 0.882447265260653,\n",
              " 0.9009127774755638,\n",
              " 0.9086067880697526,\n",
              " 0.9275119607022361,\n",
              " 0.9351509649700104,\n",
              " 0.9563643149510239,\n",
              " 0.9599364782172308,\n",
              " 0.9647727098364127,\n",
              " 0.9832382220513233,\n",
              " 0.9766983386012053,\n",
              " 0.9593319526996372,\n",
              " 0.9576832302555041,\n",
              " 0.9803804375806299,\n",
              " 0.9618049951481881,\n",
              " 0.9440539496597752,\n",
              " 0.9457575959950248,\n",
              " 0.9344914221346292,\n",
              " 0.910640164605044,\n",
              " 0.9211369478478253,\n",
              " 0.9361950739655654,\n",
              " 0.9081121103343923,\n",
              " 0.9069031362388162,\n",
              " 0.9197080143948296,\n",
              " 0.9187737586771944,\n",
              " 0.9143222635844687,\n",
              " 0.888877207501867,\n",
              " 0.8948675717608061,\n",
              " 0.861453786706075,\n",
              " 0.8601898007883979,\n",
              " 0.8990442605446065,\n",
              " 0.866125070789938,\n",
              " 0.8678288050561721,\n",
              " 0.8761821881194599,\n",
              " 0.9121240219491563,\n",
              " 0.8612889216060541,\n",
              " 0.8640916942546466,\n",
              " 0.8354042051058796,\n",
              " 0.8488686206015876,\n",
              " 0.8048481990261555,\n",
              " 0.7831951831318826,\n",
              " 0.808200573301225,\n",
              " 0.7995723014937144,\n",
              " 0.8199064075791935,\n",
              " 0.7736327380420346,\n",
              " 0.7545627003095302,\n",
              " 0.7558816101183239,\n",
              " 0.7862178272069105,\n",
              " 0.7711046892670693,\n",
              " 0.7719840155979014,\n",
              " 0.7898999261863351,\n",
              " 0.8221046492145058,\n",
              " 0.8177080835085835,\n",
              " 0.8169937047130699,\n",
              " 0.8307329210220165,\n",
              " 0.7986930575981801,\n",
              " 0.8028697463819806,\n",
              " 0.8169937047130699,\n",
              " 0.8128719398203859,\n",
              " 0.7836348435494553,\n",
              " 0.7533536437786564,\n",
              " 0.7245012895298686,\n",
              " 0.7293374387137526,\n",
              " 0.7440109107403344,\n",
              " 0.7144991015871498,\n",
              " 0.7227426313725178]"
            ]
          },
          "metadata": {},
          "execution_count": 45
        }
      ]
    },
    {
      "cell_type": "code",
      "source": [
        "# demonstrate prediction for next 30 days\n",
        "from numpy import array\n",
        "\n",
        "lst_output=[]\n",
        "n_steps=100\n",
        "i=0\n",
        "while(i<30):\n",
        "    \n",
        "    if(len(temp_input)>100):\n",
        "        #print(temp_input)\n",
        "        x_input=np.array(temp_input[1:])\n",
        "        print(\"{} day input {}\".format(i,x_input))\n",
        "        x_input=x_input.reshape(1,-1)\n",
        "        x_input = x_input.reshape((1, n_steps, 1))\n",
        "        #print(x_input)\n",
        "        yhat = model.predict(x_input, verbose=0)\n",
        "        print(\"{} day output {}\".format(i,yhat))\n",
        "        temp_input.extend(yhat[0].tolist())\n",
        "        temp_input=temp_input[1:]\n",
        "        #print(temp_input)\n",
        "        lst_output.extend(yhat.tolist())\n",
        "        i=i+1\n",
        "    else:\n",
        "        x_input = x_input.reshape((1, n_steps,1))\n",
        "        yhat = model.predict(x_input, verbose=0)\n",
        "        print(yhat[0])\n",
        "        temp_input.extend(yhat[0].tolist())\n",
        "        print(len(temp_input))\n",
        "        lst_output.extend(yhat.tolist())\n",
        "        i=i+1\n",
        "    \n",
        "\n",
        "print(lst_output)"
      ],
      "metadata": {
        "colab": {
          "base_uri": "https://localhost:8080/"
        },
        "id": "6KsWQZ70Zh3Q",
        "outputId": "9d5b95b5-cc6f-443f-edc1-2b6d7d7f6792"
      },
      "execution_count": 46,
      "outputs": [
        {
          "output_type": "stream",
          "name": "stdout",
          "text": [
            "[0.5818909]\n",
            "101\n",
            "1 day input [0.87475334 0.93581042 0.96026621 0.95933195 0.96609162 0.94993429\n",
            " 0.94713152 0.94311969 0.96054101 0.96850974 0.94564766 0.92652269\n",
            " 0.92784169 0.94932976 0.94801085 0.92784169 0.9191585  0.90278137\n",
            " 0.8794247  0.89409818 0.90569408 0.90717785 0.89662615 0.91509166\n",
            " 0.91327807 0.89646128 0.875193   0.86497102 0.89525223 0.87090637\n",
            " 0.85007768 0.8274904  0.85205612 0.87678671 0.88244727 0.90091278\n",
            " 0.90860679 0.92751196 0.93515096 0.95636431 0.95993648 0.96477271\n",
            " 0.98323822 0.97669834 0.95933195 0.95768323 0.98038044 0.961805\n",
            " 0.94405395 0.9457576  0.93449142 0.91064016 0.92113695 0.93619507\n",
            " 0.90811211 0.90690314 0.91970801 0.91877376 0.91432226 0.88887721\n",
            " 0.89486757 0.86145379 0.8601898  0.89904426 0.86612507 0.86782881\n",
            " 0.87618219 0.91212402 0.86128892 0.86409169 0.83540421 0.84886862\n",
            " 0.8048482  0.78319518 0.80820057 0.7995723  0.81990641 0.77363274\n",
            " 0.7545627  0.75588161 0.78621783 0.77110469 0.77198402 0.78989993\n",
            " 0.82210465 0.81770808 0.8169937  0.83073292 0.79869306 0.80286975\n",
            " 0.8169937  0.81287194 0.78363484 0.75335364 0.72450129 0.72933744\n",
            " 0.74401091 0.7144991  0.72274263 0.58189088]\n",
            "1 day output [[0.56803304]]\n",
            "2 day input [0.93581042 0.96026621 0.95933195 0.96609162 0.94993429 0.94713152\n",
            " 0.94311969 0.96054101 0.96850974 0.94564766 0.92652269 0.92784169\n",
            " 0.94932976 0.94801085 0.92784169 0.9191585  0.90278137 0.8794247\n",
            " 0.89409818 0.90569408 0.90717785 0.89662615 0.91509166 0.91327807\n",
            " 0.89646128 0.875193   0.86497102 0.89525223 0.87090637 0.85007768\n",
            " 0.8274904  0.85205612 0.87678671 0.88244727 0.90091278 0.90860679\n",
            " 0.92751196 0.93515096 0.95636431 0.95993648 0.96477271 0.98323822\n",
            " 0.97669834 0.95933195 0.95768323 0.98038044 0.961805   0.94405395\n",
            " 0.9457576  0.93449142 0.91064016 0.92113695 0.93619507 0.90811211\n",
            " 0.90690314 0.91970801 0.91877376 0.91432226 0.88887721 0.89486757\n",
            " 0.86145379 0.8601898  0.89904426 0.86612507 0.86782881 0.87618219\n",
            " 0.91212402 0.86128892 0.86409169 0.83540421 0.84886862 0.8048482\n",
            " 0.78319518 0.80820057 0.7995723  0.81990641 0.77363274 0.7545627\n",
            " 0.75588161 0.78621783 0.77110469 0.77198402 0.78989993 0.82210465\n",
            " 0.81770808 0.8169937  0.83073292 0.79869306 0.80286975 0.8169937\n",
            " 0.81287194 0.78363484 0.75335364 0.72450129 0.72933744 0.74401091\n",
            " 0.7144991  0.72274263 0.58189088 0.56803304]\n",
            "2 day output [[0.5471078]]\n",
            "3 day input [0.96026621 0.95933195 0.96609162 0.94993429 0.94713152 0.94311969\n",
            " 0.96054101 0.96850974 0.94564766 0.92652269 0.92784169 0.94932976\n",
            " 0.94801085 0.92784169 0.9191585  0.90278137 0.8794247  0.89409818\n",
            " 0.90569408 0.90717785 0.89662615 0.91509166 0.91327807 0.89646128\n",
            " 0.875193   0.86497102 0.89525223 0.87090637 0.85007768 0.8274904\n",
            " 0.85205612 0.87678671 0.88244727 0.90091278 0.90860679 0.92751196\n",
            " 0.93515096 0.95636431 0.95993648 0.96477271 0.98323822 0.97669834\n",
            " 0.95933195 0.95768323 0.98038044 0.961805   0.94405395 0.9457576\n",
            " 0.93449142 0.91064016 0.92113695 0.93619507 0.90811211 0.90690314\n",
            " 0.91970801 0.91877376 0.91432226 0.88887721 0.89486757 0.86145379\n",
            " 0.8601898  0.89904426 0.86612507 0.86782881 0.87618219 0.91212402\n",
            " 0.86128892 0.86409169 0.83540421 0.84886862 0.8048482  0.78319518\n",
            " 0.80820057 0.7995723  0.81990641 0.77363274 0.7545627  0.75588161\n",
            " 0.78621783 0.77110469 0.77198402 0.78989993 0.82210465 0.81770808\n",
            " 0.8169937  0.83073292 0.79869306 0.80286975 0.8169937  0.81287194\n",
            " 0.78363484 0.75335364 0.72450129 0.72933744 0.74401091 0.7144991\n",
            " 0.72274263 0.58189088 0.56803304 0.54710782]\n",
            "3 day output [[0.5220976]]\n",
            "4 day input [0.95933195 0.96609162 0.94993429 0.94713152 0.94311969 0.96054101\n",
            " 0.96850974 0.94564766 0.92652269 0.92784169 0.94932976 0.94801085\n",
            " 0.92784169 0.9191585  0.90278137 0.8794247  0.89409818 0.90569408\n",
            " 0.90717785 0.89662615 0.91509166 0.91327807 0.89646128 0.875193\n",
            " 0.86497102 0.89525223 0.87090637 0.85007768 0.8274904  0.85205612\n",
            " 0.87678671 0.88244727 0.90091278 0.90860679 0.92751196 0.93515096\n",
            " 0.95636431 0.95993648 0.96477271 0.98323822 0.97669834 0.95933195\n",
            " 0.95768323 0.98038044 0.961805   0.94405395 0.9457576  0.93449142\n",
            " 0.91064016 0.92113695 0.93619507 0.90811211 0.90690314 0.91970801\n",
            " 0.91877376 0.91432226 0.88887721 0.89486757 0.86145379 0.8601898\n",
            " 0.89904426 0.86612507 0.86782881 0.87618219 0.91212402 0.86128892\n",
            " 0.86409169 0.83540421 0.84886862 0.8048482  0.78319518 0.80820057\n",
            " 0.7995723  0.81990641 0.77363274 0.7545627  0.75588161 0.78621783\n",
            " 0.77110469 0.77198402 0.78989993 0.82210465 0.81770808 0.8169937\n",
            " 0.83073292 0.79869306 0.80286975 0.8169937  0.81287194 0.78363484\n",
            " 0.75335364 0.72450129 0.72933744 0.74401091 0.7144991  0.72274263\n",
            " 0.58189088 0.56803304 0.54710782 0.52209759]\n",
            "4 day output [[0.49566162]]\n",
            "5 day input [0.96609162 0.94993429 0.94713152 0.94311969 0.96054101 0.96850974\n",
            " 0.94564766 0.92652269 0.92784169 0.94932976 0.94801085 0.92784169\n",
            " 0.9191585  0.90278137 0.8794247  0.89409818 0.90569408 0.90717785\n",
            " 0.89662615 0.91509166 0.91327807 0.89646128 0.875193   0.86497102\n",
            " 0.89525223 0.87090637 0.85007768 0.8274904  0.85205612 0.87678671\n",
            " 0.88244727 0.90091278 0.90860679 0.92751196 0.93515096 0.95636431\n",
            " 0.95993648 0.96477271 0.98323822 0.97669834 0.95933195 0.95768323\n",
            " 0.98038044 0.961805   0.94405395 0.9457576  0.93449142 0.91064016\n",
            " 0.92113695 0.93619507 0.90811211 0.90690314 0.91970801 0.91877376\n",
            " 0.91432226 0.88887721 0.89486757 0.86145379 0.8601898  0.89904426\n",
            " 0.86612507 0.86782881 0.87618219 0.91212402 0.86128892 0.86409169\n",
            " 0.83540421 0.84886862 0.8048482  0.78319518 0.80820057 0.7995723\n",
            " 0.81990641 0.77363274 0.7545627  0.75588161 0.78621783 0.77110469\n",
            " 0.77198402 0.78989993 0.82210465 0.81770808 0.8169937  0.83073292\n",
            " 0.79869306 0.80286975 0.8169937  0.81287194 0.78363484 0.75335364\n",
            " 0.72450129 0.72933744 0.74401091 0.7144991  0.72274263 0.58189088\n",
            " 0.56803304 0.54710782 0.52209759 0.49566162]\n",
            "5 day output [[0.46951196]]\n",
            "6 day input [0.94993429 0.94713152 0.94311969 0.96054101 0.96850974 0.94564766\n",
            " 0.92652269 0.92784169 0.94932976 0.94801085 0.92784169 0.9191585\n",
            " 0.90278137 0.8794247  0.89409818 0.90569408 0.90717785 0.89662615\n",
            " 0.91509166 0.91327807 0.89646128 0.875193   0.86497102 0.89525223\n",
            " 0.87090637 0.85007768 0.8274904  0.85205612 0.87678671 0.88244727\n",
            " 0.90091278 0.90860679 0.92751196 0.93515096 0.95636431 0.95993648\n",
            " 0.96477271 0.98323822 0.97669834 0.95933195 0.95768323 0.98038044\n",
            " 0.961805   0.94405395 0.9457576  0.93449142 0.91064016 0.92113695\n",
            " 0.93619507 0.90811211 0.90690314 0.91970801 0.91877376 0.91432226\n",
            " 0.88887721 0.89486757 0.86145379 0.8601898  0.89904426 0.86612507\n",
            " 0.86782881 0.87618219 0.91212402 0.86128892 0.86409169 0.83540421\n",
            " 0.84886862 0.8048482  0.78319518 0.80820057 0.7995723  0.81990641\n",
            " 0.77363274 0.7545627  0.75588161 0.78621783 0.77110469 0.77198402\n",
            " 0.78989993 0.82210465 0.81770808 0.8169937  0.83073292 0.79869306\n",
            " 0.80286975 0.8169937  0.81287194 0.78363484 0.75335364 0.72450129\n",
            " 0.72933744 0.74401091 0.7144991  0.72274263 0.58189088 0.56803304\n",
            " 0.54710782 0.52209759 0.49566162 0.46951196]\n",
            "6 day output [[0.44456944]]\n",
            "7 day input [0.94713152 0.94311969 0.96054101 0.96850974 0.94564766 0.92652269\n",
            " 0.92784169 0.94932976 0.94801085 0.92784169 0.9191585  0.90278137\n",
            " 0.8794247  0.89409818 0.90569408 0.90717785 0.89662615 0.91509166\n",
            " 0.91327807 0.89646128 0.875193   0.86497102 0.89525223 0.87090637\n",
            " 0.85007768 0.8274904  0.85205612 0.87678671 0.88244727 0.90091278\n",
            " 0.90860679 0.92751196 0.93515096 0.95636431 0.95993648 0.96477271\n",
            " 0.98323822 0.97669834 0.95933195 0.95768323 0.98038044 0.961805\n",
            " 0.94405395 0.9457576  0.93449142 0.91064016 0.92113695 0.93619507\n",
            " 0.90811211 0.90690314 0.91970801 0.91877376 0.91432226 0.88887721\n",
            " 0.89486757 0.86145379 0.8601898  0.89904426 0.86612507 0.86782881\n",
            " 0.87618219 0.91212402 0.86128892 0.86409169 0.83540421 0.84886862\n",
            " 0.8048482  0.78319518 0.80820057 0.7995723  0.81990641 0.77363274\n",
            " 0.7545627  0.75588161 0.78621783 0.77110469 0.77198402 0.78989993\n",
            " 0.82210465 0.81770808 0.8169937  0.83073292 0.79869306 0.80286975\n",
            " 0.8169937  0.81287194 0.78363484 0.75335364 0.72450129 0.72933744\n",
            " 0.74401091 0.7144991  0.72274263 0.58189088 0.56803304 0.54710782\n",
            " 0.52209759 0.49566162 0.46951196 0.44456944]\n",
            "7 day output [[0.4212671]]\n",
            "8 day input [0.94311969 0.96054101 0.96850974 0.94564766 0.92652269 0.92784169\n",
            " 0.94932976 0.94801085 0.92784169 0.9191585  0.90278137 0.8794247\n",
            " 0.89409818 0.90569408 0.90717785 0.89662615 0.91509166 0.91327807\n",
            " 0.89646128 0.875193   0.86497102 0.89525223 0.87090637 0.85007768\n",
            " 0.8274904  0.85205612 0.87678671 0.88244727 0.90091278 0.90860679\n",
            " 0.92751196 0.93515096 0.95636431 0.95993648 0.96477271 0.98323822\n",
            " 0.97669834 0.95933195 0.95768323 0.98038044 0.961805   0.94405395\n",
            " 0.9457576  0.93449142 0.91064016 0.92113695 0.93619507 0.90811211\n",
            " 0.90690314 0.91970801 0.91877376 0.91432226 0.88887721 0.89486757\n",
            " 0.86145379 0.8601898  0.89904426 0.86612507 0.86782881 0.87618219\n",
            " 0.91212402 0.86128892 0.86409169 0.83540421 0.84886862 0.8048482\n",
            " 0.78319518 0.80820057 0.7995723  0.81990641 0.77363274 0.7545627\n",
            " 0.75588161 0.78621783 0.77110469 0.77198402 0.78989993 0.82210465\n",
            " 0.81770808 0.8169937  0.83073292 0.79869306 0.80286975 0.8169937\n",
            " 0.81287194 0.78363484 0.75335364 0.72450129 0.72933744 0.74401091\n",
            " 0.7144991  0.72274263 0.58189088 0.56803304 0.54710782 0.52209759\n",
            " 0.49566162 0.46951196 0.44456944 0.42126709]\n",
            "8 day output [[0.39978668]]\n",
            "9 day input [0.96054101 0.96850974 0.94564766 0.92652269 0.92784169 0.94932976\n",
            " 0.94801085 0.92784169 0.9191585  0.90278137 0.8794247  0.89409818\n",
            " 0.90569408 0.90717785 0.89662615 0.91509166 0.91327807 0.89646128\n",
            " 0.875193   0.86497102 0.89525223 0.87090637 0.85007768 0.8274904\n",
            " 0.85205612 0.87678671 0.88244727 0.90091278 0.90860679 0.92751196\n",
            " 0.93515096 0.95636431 0.95993648 0.96477271 0.98323822 0.97669834\n",
            " 0.95933195 0.95768323 0.98038044 0.961805   0.94405395 0.9457576\n",
            " 0.93449142 0.91064016 0.92113695 0.93619507 0.90811211 0.90690314\n",
            " 0.91970801 0.91877376 0.91432226 0.88887721 0.89486757 0.86145379\n",
            " 0.8601898  0.89904426 0.86612507 0.86782881 0.87618219 0.91212402\n",
            " 0.86128892 0.86409169 0.83540421 0.84886862 0.8048482  0.78319518\n",
            " 0.80820057 0.7995723  0.81990641 0.77363274 0.7545627  0.75588161\n",
            " 0.78621783 0.77110469 0.77198402 0.78989993 0.82210465 0.81770808\n",
            " 0.8169937  0.83073292 0.79869306 0.80286975 0.8169937  0.81287194\n",
            " 0.78363484 0.75335364 0.72450129 0.72933744 0.74401091 0.7144991\n",
            " 0.72274263 0.58189088 0.56803304 0.54710782 0.52209759 0.49566162\n",
            " 0.46951196 0.44456944 0.42126709 0.39978668]\n",
            "9 day output [[0.38019526]]\n",
            "10 day input [0.96850974 0.94564766 0.92652269 0.92784169 0.94932976 0.94801085\n",
            " 0.92784169 0.9191585  0.90278137 0.8794247  0.89409818 0.90569408\n",
            " 0.90717785 0.89662615 0.91509166 0.91327807 0.89646128 0.875193\n",
            " 0.86497102 0.89525223 0.87090637 0.85007768 0.8274904  0.85205612\n",
            " 0.87678671 0.88244727 0.90091278 0.90860679 0.92751196 0.93515096\n",
            " 0.95636431 0.95993648 0.96477271 0.98323822 0.97669834 0.95933195\n",
            " 0.95768323 0.98038044 0.961805   0.94405395 0.9457576  0.93449142\n",
            " 0.91064016 0.92113695 0.93619507 0.90811211 0.90690314 0.91970801\n",
            " 0.91877376 0.91432226 0.88887721 0.89486757 0.86145379 0.8601898\n",
            " 0.89904426 0.86612507 0.86782881 0.87618219 0.91212402 0.86128892\n",
            " 0.86409169 0.83540421 0.84886862 0.8048482  0.78319518 0.80820057\n",
            " 0.7995723  0.81990641 0.77363274 0.7545627  0.75588161 0.78621783\n",
            " 0.77110469 0.77198402 0.78989993 0.82210465 0.81770808 0.8169937\n",
            " 0.83073292 0.79869306 0.80286975 0.8169937  0.81287194 0.78363484\n",
            " 0.75335364 0.72450129 0.72933744 0.74401091 0.7144991  0.72274263\n",
            " 0.58189088 0.56803304 0.54710782 0.52209759 0.49566162 0.46951196\n",
            " 0.44456944 0.42126709 0.39978668 0.38019526]\n",
            "10 day output [[0.36250615]]\n",
            "11 day input [0.94564766 0.92652269 0.92784169 0.94932976 0.94801085 0.92784169\n",
            " 0.9191585  0.90278137 0.8794247  0.89409818 0.90569408 0.90717785\n",
            " 0.89662615 0.91509166 0.91327807 0.89646128 0.875193   0.86497102\n",
            " 0.89525223 0.87090637 0.85007768 0.8274904  0.85205612 0.87678671\n",
            " 0.88244727 0.90091278 0.90860679 0.92751196 0.93515096 0.95636431\n",
            " 0.95993648 0.96477271 0.98323822 0.97669834 0.95933195 0.95768323\n",
            " 0.98038044 0.961805   0.94405395 0.9457576  0.93449142 0.91064016\n",
            " 0.92113695 0.93619507 0.90811211 0.90690314 0.91970801 0.91877376\n",
            " 0.91432226 0.88887721 0.89486757 0.86145379 0.8601898  0.89904426\n",
            " 0.86612507 0.86782881 0.87618219 0.91212402 0.86128892 0.86409169\n",
            " 0.83540421 0.84886862 0.8048482  0.78319518 0.80820057 0.7995723\n",
            " 0.81990641 0.77363274 0.7545627  0.75588161 0.78621783 0.77110469\n",
            " 0.77198402 0.78989993 0.82210465 0.81770808 0.8169937  0.83073292\n",
            " 0.79869306 0.80286975 0.8169937  0.81287194 0.78363484 0.75335364\n",
            " 0.72450129 0.72933744 0.74401091 0.7144991  0.72274263 0.58189088\n",
            " 0.56803304 0.54710782 0.52209759 0.49566162 0.46951196 0.44456944\n",
            " 0.42126709 0.39978668 0.38019526 0.36250615]\n",
            "11 day output [[0.34670132]]\n",
            "12 day input [0.92652269 0.92784169 0.94932976 0.94801085 0.92784169 0.9191585\n",
            " 0.90278137 0.8794247  0.89409818 0.90569408 0.90717785 0.89662615\n",
            " 0.91509166 0.91327807 0.89646128 0.875193   0.86497102 0.89525223\n",
            " 0.87090637 0.85007768 0.8274904  0.85205612 0.87678671 0.88244727\n",
            " 0.90091278 0.90860679 0.92751196 0.93515096 0.95636431 0.95993648\n",
            " 0.96477271 0.98323822 0.97669834 0.95933195 0.95768323 0.98038044\n",
            " 0.961805   0.94405395 0.9457576  0.93449142 0.91064016 0.92113695\n",
            " 0.93619507 0.90811211 0.90690314 0.91970801 0.91877376 0.91432226\n",
            " 0.88887721 0.89486757 0.86145379 0.8601898  0.89904426 0.86612507\n",
            " 0.86782881 0.87618219 0.91212402 0.86128892 0.86409169 0.83540421\n",
            " 0.84886862 0.8048482  0.78319518 0.80820057 0.7995723  0.81990641\n",
            " 0.77363274 0.7545627  0.75588161 0.78621783 0.77110469 0.77198402\n",
            " 0.78989993 0.82210465 0.81770808 0.8169937  0.83073292 0.79869306\n",
            " 0.80286975 0.8169937  0.81287194 0.78363484 0.75335364 0.72450129\n",
            " 0.72933744 0.74401091 0.7144991  0.72274263 0.58189088 0.56803304\n",
            " 0.54710782 0.52209759 0.49566162 0.46951196 0.44456944 0.42126709\n",
            " 0.39978668 0.38019526 0.36250615 0.34670132]\n",
            "12 day output [[0.33273587]]\n",
            "13 day input [0.92784169 0.94932976 0.94801085 0.92784169 0.9191585  0.90278137\n",
            " 0.8794247  0.89409818 0.90569408 0.90717785 0.89662615 0.91509166\n",
            " 0.91327807 0.89646128 0.875193   0.86497102 0.89525223 0.87090637\n",
            " 0.85007768 0.8274904  0.85205612 0.87678671 0.88244727 0.90091278\n",
            " 0.90860679 0.92751196 0.93515096 0.95636431 0.95993648 0.96477271\n",
            " 0.98323822 0.97669834 0.95933195 0.95768323 0.98038044 0.961805\n",
            " 0.94405395 0.9457576  0.93449142 0.91064016 0.92113695 0.93619507\n",
            " 0.90811211 0.90690314 0.91970801 0.91877376 0.91432226 0.88887721\n",
            " 0.89486757 0.86145379 0.8601898  0.89904426 0.86612507 0.86782881\n",
            " 0.87618219 0.91212402 0.86128892 0.86409169 0.83540421 0.84886862\n",
            " 0.8048482  0.78319518 0.80820057 0.7995723  0.81990641 0.77363274\n",
            " 0.7545627  0.75588161 0.78621783 0.77110469 0.77198402 0.78989993\n",
            " 0.82210465 0.81770808 0.8169937  0.83073292 0.79869306 0.80286975\n",
            " 0.8169937  0.81287194 0.78363484 0.75335364 0.72450129 0.72933744\n",
            " 0.74401091 0.7144991  0.72274263 0.58189088 0.56803304 0.54710782\n",
            " 0.52209759 0.49566162 0.46951196 0.44456944 0.42126709 0.39978668\n",
            " 0.38019526 0.36250615 0.34670132 0.33273587]\n",
            "13 day output [[0.32053742]]\n",
            "14 day input [0.94932976 0.94801085 0.92784169 0.9191585  0.90278137 0.8794247\n",
            " 0.89409818 0.90569408 0.90717785 0.89662615 0.91509166 0.91327807\n",
            " 0.89646128 0.875193   0.86497102 0.89525223 0.87090637 0.85007768\n",
            " 0.8274904  0.85205612 0.87678671 0.88244727 0.90091278 0.90860679\n",
            " 0.92751196 0.93515096 0.95636431 0.95993648 0.96477271 0.98323822\n",
            " 0.97669834 0.95933195 0.95768323 0.98038044 0.961805   0.94405395\n",
            " 0.9457576  0.93449142 0.91064016 0.92113695 0.93619507 0.90811211\n",
            " 0.90690314 0.91970801 0.91877376 0.91432226 0.88887721 0.89486757\n",
            " 0.86145379 0.8601898  0.89904426 0.86612507 0.86782881 0.87618219\n",
            " 0.91212402 0.86128892 0.86409169 0.83540421 0.84886862 0.8048482\n",
            " 0.78319518 0.80820057 0.7995723  0.81990641 0.77363274 0.7545627\n",
            " 0.75588161 0.78621783 0.77110469 0.77198402 0.78989993 0.82210465\n",
            " 0.81770808 0.8169937  0.83073292 0.79869306 0.80286975 0.8169937\n",
            " 0.81287194 0.78363484 0.75335364 0.72450129 0.72933744 0.74401091\n",
            " 0.7144991  0.72274263 0.58189088 0.56803304 0.54710782 0.52209759\n",
            " 0.49566162 0.46951196 0.44456944 0.42126709 0.39978668 0.38019526\n",
            " 0.36250615 0.34670132 0.33273587 0.32053742]\n",
            "14 day output [[0.31000787]]\n",
            "15 day input [0.94801085 0.92784169 0.9191585  0.90278137 0.8794247  0.89409818\n",
            " 0.90569408 0.90717785 0.89662615 0.91509166 0.91327807 0.89646128\n",
            " 0.875193   0.86497102 0.89525223 0.87090637 0.85007768 0.8274904\n",
            " 0.85205612 0.87678671 0.88244727 0.90091278 0.90860679 0.92751196\n",
            " 0.93515096 0.95636431 0.95993648 0.96477271 0.98323822 0.97669834\n",
            " 0.95933195 0.95768323 0.98038044 0.961805   0.94405395 0.9457576\n",
            " 0.93449142 0.91064016 0.92113695 0.93619507 0.90811211 0.90690314\n",
            " 0.91970801 0.91877376 0.91432226 0.88887721 0.89486757 0.86145379\n",
            " 0.8601898  0.89904426 0.86612507 0.86782881 0.87618219 0.91212402\n",
            " 0.86128892 0.86409169 0.83540421 0.84886862 0.8048482  0.78319518\n",
            " 0.80820057 0.7995723  0.81990641 0.77363274 0.7545627  0.75588161\n",
            " 0.78621783 0.77110469 0.77198402 0.78989993 0.82210465 0.81770808\n",
            " 0.8169937  0.83073292 0.79869306 0.80286975 0.8169937  0.81287194\n",
            " 0.78363484 0.75335364 0.72450129 0.72933744 0.74401091 0.7144991\n",
            " 0.72274263 0.58189088 0.56803304 0.54710782 0.52209759 0.49566162\n",
            " 0.46951196 0.44456944 0.42126709 0.39978668 0.38019526 0.36250615\n",
            " 0.34670132 0.33273587 0.32053742 0.31000787]\n",
            "15 day output [[0.30102623]]\n",
            "16 day input [0.92784169 0.9191585  0.90278137 0.8794247  0.89409818 0.90569408\n",
            " 0.90717785 0.89662615 0.91509166 0.91327807 0.89646128 0.875193\n",
            " 0.86497102 0.89525223 0.87090637 0.85007768 0.8274904  0.85205612\n",
            " 0.87678671 0.88244727 0.90091278 0.90860679 0.92751196 0.93515096\n",
            " 0.95636431 0.95993648 0.96477271 0.98323822 0.97669834 0.95933195\n",
            " 0.95768323 0.98038044 0.961805   0.94405395 0.9457576  0.93449142\n",
            " 0.91064016 0.92113695 0.93619507 0.90811211 0.90690314 0.91970801\n",
            " 0.91877376 0.91432226 0.88887721 0.89486757 0.86145379 0.8601898\n",
            " 0.89904426 0.86612507 0.86782881 0.87618219 0.91212402 0.86128892\n",
            " 0.86409169 0.83540421 0.84886862 0.8048482  0.78319518 0.80820057\n",
            " 0.7995723  0.81990641 0.77363274 0.7545627  0.75588161 0.78621783\n",
            " 0.77110469 0.77198402 0.78989993 0.82210465 0.81770808 0.8169937\n",
            " 0.83073292 0.79869306 0.80286975 0.8169937  0.81287194 0.78363484\n",
            " 0.75335364 0.72450129 0.72933744 0.74401091 0.7144991  0.72274263\n",
            " 0.58189088 0.56803304 0.54710782 0.52209759 0.49566162 0.46951196\n",
            " 0.44456944 0.42126709 0.39978668 0.38019526 0.36250615 0.34670132\n",
            " 0.33273587 0.32053742 0.31000787 0.30102623]\n",
            "16 day output [[0.29345202]]\n",
            "17 day input [0.9191585  0.90278137 0.8794247  0.89409818 0.90569408 0.90717785\n",
            " 0.89662615 0.91509166 0.91327807 0.89646128 0.875193   0.86497102\n",
            " 0.89525223 0.87090637 0.85007768 0.8274904  0.85205612 0.87678671\n",
            " 0.88244727 0.90091278 0.90860679 0.92751196 0.93515096 0.95636431\n",
            " 0.95993648 0.96477271 0.98323822 0.97669834 0.95933195 0.95768323\n",
            " 0.98038044 0.961805   0.94405395 0.9457576  0.93449142 0.91064016\n",
            " 0.92113695 0.93619507 0.90811211 0.90690314 0.91970801 0.91877376\n",
            " 0.91432226 0.88887721 0.89486757 0.86145379 0.8601898  0.89904426\n",
            " 0.86612507 0.86782881 0.87618219 0.91212402 0.86128892 0.86409169\n",
            " 0.83540421 0.84886862 0.8048482  0.78319518 0.80820057 0.7995723\n",
            " 0.81990641 0.77363274 0.7545627  0.75588161 0.78621783 0.77110469\n",
            " 0.77198402 0.78989993 0.82210465 0.81770808 0.8169937  0.83073292\n",
            " 0.79869306 0.80286975 0.8169937  0.81287194 0.78363484 0.75335364\n",
            " 0.72450129 0.72933744 0.74401091 0.7144991  0.72274263 0.58189088\n",
            " 0.56803304 0.54710782 0.52209759 0.49566162 0.46951196 0.44456944\n",
            " 0.42126709 0.39978668 0.38019526 0.36250615 0.34670132 0.33273587\n",
            " 0.32053742 0.31000787 0.30102623 0.29345202]\n",
            "17 day output [[0.2871317]]\n",
            "18 day input [0.90278137 0.8794247  0.89409818 0.90569408 0.90717785 0.89662615\n",
            " 0.91509166 0.91327807 0.89646128 0.875193   0.86497102 0.89525223\n",
            " 0.87090637 0.85007768 0.8274904  0.85205612 0.87678671 0.88244727\n",
            " 0.90091278 0.90860679 0.92751196 0.93515096 0.95636431 0.95993648\n",
            " 0.96477271 0.98323822 0.97669834 0.95933195 0.95768323 0.98038044\n",
            " 0.961805   0.94405395 0.9457576  0.93449142 0.91064016 0.92113695\n",
            " 0.93619507 0.90811211 0.90690314 0.91970801 0.91877376 0.91432226\n",
            " 0.88887721 0.89486757 0.86145379 0.8601898  0.89904426 0.86612507\n",
            " 0.86782881 0.87618219 0.91212402 0.86128892 0.86409169 0.83540421\n",
            " 0.84886862 0.8048482  0.78319518 0.80820057 0.7995723  0.81990641\n",
            " 0.77363274 0.7545627  0.75588161 0.78621783 0.77110469 0.77198402\n",
            " 0.78989993 0.82210465 0.81770808 0.8169937  0.83073292 0.79869306\n",
            " 0.80286975 0.8169937  0.81287194 0.78363484 0.75335364 0.72450129\n",
            " 0.72933744 0.74401091 0.7144991  0.72274263 0.58189088 0.56803304\n",
            " 0.54710782 0.52209759 0.49566162 0.46951196 0.44456944 0.42126709\n",
            " 0.39978668 0.38019526 0.36250615 0.34670132 0.33273587 0.32053742\n",
            " 0.31000787 0.30102623 0.29345202 0.2871317 ]\n",
            "18 day output [[0.28190356]]\n",
            "19 day input [0.8794247  0.89409818 0.90569408 0.90717785 0.89662615 0.91509166\n",
            " 0.91327807 0.89646128 0.875193   0.86497102 0.89525223 0.87090637\n",
            " 0.85007768 0.8274904  0.85205612 0.87678671 0.88244727 0.90091278\n",
            " 0.90860679 0.92751196 0.93515096 0.95636431 0.95993648 0.96477271\n",
            " 0.98323822 0.97669834 0.95933195 0.95768323 0.98038044 0.961805\n",
            " 0.94405395 0.9457576  0.93449142 0.91064016 0.92113695 0.93619507\n",
            " 0.90811211 0.90690314 0.91970801 0.91877376 0.91432226 0.88887721\n",
            " 0.89486757 0.86145379 0.8601898  0.89904426 0.86612507 0.86782881\n",
            " 0.87618219 0.91212402 0.86128892 0.86409169 0.83540421 0.84886862\n",
            " 0.8048482  0.78319518 0.80820057 0.7995723  0.81990641 0.77363274\n",
            " 0.7545627  0.75588161 0.78621783 0.77110469 0.77198402 0.78989993\n",
            " 0.82210465 0.81770808 0.8169937  0.83073292 0.79869306 0.80286975\n",
            " 0.8169937  0.81287194 0.78363484 0.75335364 0.72450129 0.72933744\n",
            " 0.74401091 0.7144991  0.72274263 0.58189088 0.56803304 0.54710782\n",
            " 0.52209759 0.49566162 0.46951196 0.44456944 0.42126709 0.39978668\n",
            " 0.38019526 0.36250615 0.34670132 0.33273587 0.32053742 0.31000787\n",
            " 0.30102623 0.29345202 0.2871317  0.28190356]\n",
            "19 day output [[0.27760363]]\n",
            "20 day input [0.89409818 0.90569408 0.90717785 0.89662615 0.91509166 0.91327807\n",
            " 0.89646128 0.875193   0.86497102 0.89525223 0.87090637 0.85007768\n",
            " 0.8274904  0.85205612 0.87678671 0.88244727 0.90091278 0.90860679\n",
            " 0.92751196 0.93515096 0.95636431 0.95993648 0.96477271 0.98323822\n",
            " 0.97669834 0.95933195 0.95768323 0.98038044 0.961805   0.94405395\n",
            " 0.9457576  0.93449142 0.91064016 0.92113695 0.93619507 0.90811211\n",
            " 0.90690314 0.91970801 0.91877376 0.91432226 0.88887721 0.89486757\n",
            " 0.86145379 0.8601898  0.89904426 0.86612507 0.86782881 0.87618219\n",
            " 0.91212402 0.86128892 0.86409169 0.83540421 0.84886862 0.8048482\n",
            " 0.78319518 0.80820057 0.7995723  0.81990641 0.77363274 0.7545627\n",
            " 0.75588161 0.78621783 0.77110469 0.77198402 0.78989993 0.82210465\n",
            " 0.81770808 0.8169937  0.83073292 0.79869306 0.80286975 0.8169937\n",
            " 0.81287194 0.78363484 0.75335364 0.72450129 0.72933744 0.74401091\n",
            " 0.7144991  0.72274263 0.58189088 0.56803304 0.54710782 0.52209759\n",
            " 0.49566162 0.46951196 0.44456944 0.42126709 0.39978668 0.38019526\n",
            " 0.36250615 0.34670132 0.33273587 0.32053742 0.31000787 0.30102623\n",
            " 0.29345202 0.2871317  0.28190356 0.27760363]\n",
            "20 day output [[0.2740705]]\n",
            "21 day input [0.90569408 0.90717785 0.89662615 0.91509166 0.91327807 0.89646128\n",
            " 0.875193   0.86497102 0.89525223 0.87090637 0.85007768 0.8274904\n",
            " 0.85205612 0.87678671 0.88244727 0.90091278 0.90860679 0.92751196\n",
            " 0.93515096 0.95636431 0.95993648 0.96477271 0.98323822 0.97669834\n",
            " 0.95933195 0.95768323 0.98038044 0.961805   0.94405395 0.9457576\n",
            " 0.93449142 0.91064016 0.92113695 0.93619507 0.90811211 0.90690314\n",
            " 0.91970801 0.91877376 0.91432226 0.88887721 0.89486757 0.86145379\n",
            " 0.8601898  0.89904426 0.86612507 0.86782881 0.87618219 0.91212402\n",
            " 0.86128892 0.86409169 0.83540421 0.84886862 0.8048482  0.78319518\n",
            " 0.80820057 0.7995723  0.81990641 0.77363274 0.7545627  0.75588161\n",
            " 0.78621783 0.77110469 0.77198402 0.78989993 0.82210465 0.81770808\n",
            " 0.8169937  0.83073292 0.79869306 0.80286975 0.8169937  0.81287194\n",
            " 0.78363484 0.75335364 0.72450129 0.72933744 0.74401091 0.7144991\n",
            " 0.72274263 0.58189088 0.56803304 0.54710782 0.52209759 0.49566162\n",
            " 0.46951196 0.44456944 0.42126709 0.39978668 0.38019526 0.36250615\n",
            " 0.34670132 0.33273587 0.32053742 0.31000787 0.30102623 0.29345202\n",
            " 0.2871317  0.28190356 0.27760363 0.2740705 ]\n",
            "21 day output [[0.27114993]]\n",
            "22 day input [0.90717785 0.89662615 0.91509166 0.91327807 0.89646128 0.875193\n",
            " 0.86497102 0.89525223 0.87090637 0.85007768 0.8274904  0.85205612\n",
            " 0.87678671 0.88244727 0.90091278 0.90860679 0.92751196 0.93515096\n",
            " 0.95636431 0.95993648 0.96477271 0.98323822 0.97669834 0.95933195\n",
            " 0.95768323 0.98038044 0.961805   0.94405395 0.9457576  0.93449142\n",
            " 0.91064016 0.92113695 0.93619507 0.90811211 0.90690314 0.91970801\n",
            " 0.91877376 0.91432226 0.88887721 0.89486757 0.86145379 0.8601898\n",
            " 0.89904426 0.86612507 0.86782881 0.87618219 0.91212402 0.86128892\n",
            " 0.86409169 0.83540421 0.84886862 0.8048482  0.78319518 0.80820057\n",
            " 0.7995723  0.81990641 0.77363274 0.7545627  0.75588161 0.78621783\n",
            " 0.77110469 0.77198402 0.78989993 0.82210465 0.81770808 0.8169937\n",
            " 0.83073292 0.79869306 0.80286975 0.8169937  0.81287194 0.78363484\n",
            " 0.75335364 0.72450129 0.72933744 0.74401091 0.7144991  0.72274263\n",
            " 0.58189088 0.56803304 0.54710782 0.52209759 0.49566162 0.46951196\n",
            " 0.44456944 0.42126709 0.39978668 0.38019526 0.36250615 0.34670132\n",
            " 0.33273587 0.32053742 0.31000787 0.30102623 0.29345202 0.2871317\n",
            " 0.28190356 0.27760363 0.2740705  0.27114993]\n",
            "22 day output [[0.26869845]]\n",
            "23 day input [0.89662615 0.91509166 0.91327807 0.89646128 0.875193   0.86497102\n",
            " 0.89525223 0.87090637 0.85007768 0.8274904  0.85205612 0.87678671\n",
            " 0.88244727 0.90091278 0.90860679 0.92751196 0.93515096 0.95636431\n",
            " 0.95993648 0.96477271 0.98323822 0.97669834 0.95933195 0.95768323\n",
            " 0.98038044 0.961805   0.94405395 0.9457576  0.93449142 0.91064016\n",
            " 0.92113695 0.93619507 0.90811211 0.90690314 0.91970801 0.91877376\n",
            " 0.91432226 0.88887721 0.89486757 0.86145379 0.8601898  0.89904426\n",
            " 0.86612507 0.86782881 0.87618219 0.91212402 0.86128892 0.86409169\n",
            " 0.83540421 0.84886862 0.8048482  0.78319518 0.80820057 0.7995723\n",
            " 0.81990641 0.77363274 0.7545627  0.75588161 0.78621783 0.77110469\n",
            " 0.77198402 0.78989993 0.82210465 0.81770808 0.8169937  0.83073292\n",
            " 0.79869306 0.80286975 0.8169937  0.81287194 0.78363484 0.75335364\n",
            " 0.72450129 0.72933744 0.74401091 0.7144991  0.72274263 0.58189088\n",
            " 0.56803304 0.54710782 0.52209759 0.49566162 0.46951196 0.44456944\n",
            " 0.42126709 0.39978668 0.38019526 0.36250615 0.34670132 0.33273587\n",
            " 0.32053742 0.31000787 0.30102623 0.29345202 0.2871317  0.28190356\n",
            " 0.27760363 0.2740705  0.27114993 0.26869845]\n",
            "23 day output [[0.26658627]]\n",
            "24 day input [0.91509166 0.91327807 0.89646128 0.875193   0.86497102 0.89525223\n",
            " 0.87090637 0.85007768 0.8274904  0.85205612 0.87678671 0.88244727\n",
            " 0.90091278 0.90860679 0.92751196 0.93515096 0.95636431 0.95993648\n",
            " 0.96477271 0.98323822 0.97669834 0.95933195 0.95768323 0.98038044\n",
            " 0.961805   0.94405395 0.9457576  0.93449142 0.91064016 0.92113695\n",
            " 0.93619507 0.90811211 0.90690314 0.91970801 0.91877376 0.91432226\n",
            " 0.88887721 0.89486757 0.86145379 0.8601898  0.89904426 0.86612507\n",
            " 0.86782881 0.87618219 0.91212402 0.86128892 0.86409169 0.83540421\n",
            " 0.84886862 0.8048482  0.78319518 0.80820057 0.7995723  0.81990641\n",
            " 0.77363274 0.7545627  0.75588161 0.78621783 0.77110469 0.77198402\n",
            " 0.78989993 0.82210465 0.81770808 0.8169937  0.83073292 0.79869306\n",
            " 0.80286975 0.8169937  0.81287194 0.78363484 0.75335364 0.72450129\n",
            " 0.72933744 0.74401091 0.7144991  0.72274263 0.58189088 0.56803304\n",
            " 0.54710782 0.52209759 0.49566162 0.46951196 0.44456944 0.42126709\n",
            " 0.39978668 0.38019526 0.36250615 0.34670132 0.33273587 0.32053742\n",
            " 0.31000787 0.30102623 0.29345202 0.2871317  0.28190356 0.27760363\n",
            " 0.2740705  0.27114993 0.26869845 0.26658627]\n",
            "24 day output [[0.2646992]]\n",
            "25 day input [0.91327807 0.89646128 0.875193   0.86497102 0.89525223 0.87090637\n",
            " 0.85007768 0.8274904  0.85205612 0.87678671 0.88244727 0.90091278\n",
            " 0.90860679 0.92751196 0.93515096 0.95636431 0.95993648 0.96477271\n",
            " 0.98323822 0.97669834 0.95933195 0.95768323 0.98038044 0.961805\n",
            " 0.94405395 0.9457576  0.93449142 0.91064016 0.92113695 0.93619507\n",
            " 0.90811211 0.90690314 0.91970801 0.91877376 0.91432226 0.88887721\n",
            " 0.89486757 0.86145379 0.8601898  0.89904426 0.86612507 0.86782881\n",
            " 0.87618219 0.91212402 0.86128892 0.86409169 0.83540421 0.84886862\n",
            " 0.8048482  0.78319518 0.80820057 0.7995723  0.81990641 0.77363274\n",
            " 0.7545627  0.75588161 0.78621783 0.77110469 0.77198402 0.78989993\n",
            " 0.82210465 0.81770808 0.8169937  0.83073292 0.79869306 0.80286975\n",
            " 0.8169937  0.81287194 0.78363484 0.75335364 0.72450129 0.72933744\n",
            " 0.74401091 0.7144991  0.72274263 0.58189088 0.56803304 0.54710782\n",
            " 0.52209759 0.49566162 0.46951196 0.44456944 0.42126709 0.39978668\n",
            " 0.38019526 0.36250615 0.34670132 0.33273587 0.32053742 0.31000787\n",
            " 0.30102623 0.29345202 0.2871317  0.28190356 0.27760363 0.2740705\n",
            " 0.27114993 0.26869845 0.26658627 0.26469919]\n",
            "25 day output [[0.26293972]]\n",
            "26 day input [0.89646128 0.875193   0.86497102 0.89525223 0.87090637 0.85007768\n",
            " 0.8274904  0.85205612 0.87678671 0.88244727 0.90091278 0.90860679\n",
            " 0.92751196 0.93515096 0.95636431 0.95993648 0.96477271 0.98323822\n",
            " 0.97669834 0.95933195 0.95768323 0.98038044 0.961805   0.94405395\n",
            " 0.9457576  0.93449142 0.91064016 0.92113695 0.93619507 0.90811211\n",
            " 0.90690314 0.91970801 0.91877376 0.91432226 0.88887721 0.89486757\n",
            " 0.86145379 0.8601898  0.89904426 0.86612507 0.86782881 0.87618219\n",
            " 0.91212402 0.86128892 0.86409169 0.83540421 0.84886862 0.8048482\n",
            " 0.78319518 0.80820057 0.7995723  0.81990641 0.77363274 0.7545627\n",
            " 0.75588161 0.78621783 0.77110469 0.77198402 0.78989993 0.82210465\n",
            " 0.81770808 0.8169937  0.83073292 0.79869306 0.80286975 0.8169937\n",
            " 0.81287194 0.78363484 0.75335364 0.72450129 0.72933744 0.74401091\n",
            " 0.7144991  0.72274263 0.58189088 0.56803304 0.54710782 0.52209759\n",
            " 0.49566162 0.46951196 0.44456944 0.42126709 0.39978668 0.38019526\n",
            " 0.36250615 0.34670132 0.33273587 0.32053742 0.31000787 0.30102623\n",
            " 0.29345202 0.2871317  0.28190356 0.27760363 0.2740705  0.27114993\n",
            " 0.26869845 0.26658627 0.26469919 0.26293972]\n",
            "26 day output [[0.2612275]]\n",
            "27 day input [0.875193   0.86497102 0.89525223 0.87090637 0.85007768 0.8274904\n",
            " 0.85205612 0.87678671 0.88244727 0.90091278 0.90860679 0.92751196\n",
            " 0.93515096 0.95636431 0.95993648 0.96477271 0.98323822 0.97669834\n",
            " 0.95933195 0.95768323 0.98038044 0.961805   0.94405395 0.9457576\n",
            " 0.93449142 0.91064016 0.92113695 0.93619507 0.90811211 0.90690314\n",
            " 0.91970801 0.91877376 0.91432226 0.88887721 0.89486757 0.86145379\n",
            " 0.8601898  0.89904426 0.86612507 0.86782881 0.87618219 0.91212402\n",
            " 0.86128892 0.86409169 0.83540421 0.84886862 0.8048482  0.78319518\n",
            " 0.80820057 0.7995723  0.81990641 0.77363274 0.7545627  0.75588161\n",
            " 0.78621783 0.77110469 0.77198402 0.78989993 0.82210465 0.81770808\n",
            " 0.8169937  0.83073292 0.79869306 0.80286975 0.8169937  0.81287194\n",
            " 0.78363484 0.75335364 0.72450129 0.72933744 0.74401091 0.7144991\n",
            " 0.72274263 0.58189088 0.56803304 0.54710782 0.52209759 0.49566162\n",
            " 0.46951196 0.44456944 0.42126709 0.39978668 0.38019526 0.36250615\n",
            " 0.34670132 0.33273587 0.32053742 0.31000787 0.30102623 0.29345202\n",
            " 0.2871317  0.28190356 0.27760363 0.2740705  0.27114993 0.26869845\n",
            " 0.26658627 0.26469919 0.26293972 0.26122749]\n",
            "27 day output [[0.259499]]\n",
            "28 day input [0.86497102 0.89525223 0.87090637 0.85007768 0.8274904  0.85205612\n",
            " 0.87678671 0.88244727 0.90091278 0.90860679 0.92751196 0.93515096\n",
            " 0.95636431 0.95993648 0.96477271 0.98323822 0.97669834 0.95933195\n",
            " 0.95768323 0.98038044 0.961805   0.94405395 0.9457576  0.93449142\n",
            " 0.91064016 0.92113695 0.93619507 0.90811211 0.90690314 0.91970801\n",
            " 0.91877376 0.91432226 0.88887721 0.89486757 0.86145379 0.8601898\n",
            " 0.89904426 0.86612507 0.86782881 0.87618219 0.91212402 0.86128892\n",
            " 0.86409169 0.83540421 0.84886862 0.8048482  0.78319518 0.80820057\n",
            " 0.7995723  0.81990641 0.77363274 0.7545627  0.75588161 0.78621783\n",
            " 0.77110469 0.77198402 0.78989993 0.82210465 0.81770808 0.8169937\n",
            " 0.83073292 0.79869306 0.80286975 0.8169937  0.81287194 0.78363484\n",
            " 0.75335364 0.72450129 0.72933744 0.74401091 0.7144991  0.72274263\n",
            " 0.58189088 0.56803304 0.54710782 0.52209759 0.49566162 0.46951196\n",
            " 0.44456944 0.42126709 0.39978668 0.38019526 0.36250615 0.34670132\n",
            " 0.33273587 0.32053742 0.31000787 0.30102623 0.29345202 0.2871317\n",
            " 0.28190356 0.27760363 0.2740705  0.27114993 0.26869845 0.26658627\n",
            " 0.26469919 0.26293972 0.26122749 0.25949901]\n",
            "28 day output [[0.2577062]]\n",
            "29 day input [0.89525223 0.87090637 0.85007768 0.8274904  0.85205612 0.87678671\n",
            " 0.88244727 0.90091278 0.90860679 0.92751196 0.93515096 0.95636431\n",
            " 0.95993648 0.96477271 0.98323822 0.97669834 0.95933195 0.95768323\n",
            " 0.98038044 0.961805   0.94405395 0.9457576  0.93449142 0.91064016\n",
            " 0.92113695 0.93619507 0.90811211 0.90690314 0.91970801 0.91877376\n",
            " 0.91432226 0.88887721 0.89486757 0.86145379 0.8601898  0.89904426\n",
            " 0.86612507 0.86782881 0.87618219 0.91212402 0.86128892 0.86409169\n",
            " 0.83540421 0.84886862 0.8048482  0.78319518 0.80820057 0.7995723\n",
            " 0.81990641 0.77363274 0.7545627  0.75588161 0.78621783 0.77110469\n",
            " 0.77198402 0.78989993 0.82210465 0.81770808 0.8169937  0.83073292\n",
            " 0.79869306 0.80286975 0.8169937  0.81287194 0.78363484 0.75335364\n",
            " 0.72450129 0.72933744 0.74401091 0.7144991  0.72274263 0.58189088\n",
            " 0.56803304 0.54710782 0.52209759 0.49566162 0.46951196 0.44456944\n",
            " 0.42126709 0.39978668 0.38019526 0.36250615 0.34670132 0.33273587\n",
            " 0.32053742 0.31000787 0.30102623 0.29345202 0.2871317  0.28190356\n",
            " 0.27760363 0.2740705  0.27114993 0.26869845 0.26658627 0.26469919\n",
            " 0.26293972 0.26122749 0.25949901 0.2577062 ]\n",
            "29 day output [[0.25581595]]\n",
            "[[0.581890881061554], [0.5680330395698547], [0.5471078157424927], [0.5220975875854492], [0.4956616163253784], [0.4695119559764862], [0.4445694386959076], [0.4212670922279358], [0.39978668093681335], [0.3801952600479126], [0.3625061511993408], [0.34670132398605347], [0.3327358663082123], [0.32053741812705994], [0.31000787019729614], [0.30102622509002686], [0.29345202445983887], [0.2871316969394684], [0.28190356492996216], [0.2776036262512207], [0.27407050132751465], [0.2711499333381653], [0.26869845390319824], [0.2665862739086151], [0.26469919085502625], [0.2629397213459015], [0.26122748851776123], [0.2594990134239197], [0.2577061951160431], [0.25581595301628113]]\n"
          ]
        }
      ]
    },
    {
      "cell_type": "code",
      "source": [
        "len(temp_input)"
      ],
      "metadata": {
        "colab": {
          "base_uri": "https://localhost:8080/"
        },
        "id": "mXfVdfHHaVep",
        "outputId": "a3ccc318-9c1d-49d2-a721-920339f8a9e8"
      },
      "execution_count": 47,
      "outputs": [
        {
          "output_type": "execute_result",
          "data": {
            "text/plain": [
              "101"
            ]
          },
          "metadata": {},
          "execution_count": 47
        }
      ]
    },
    {
      "cell_type": "code",
      "source": [
        "day_new=np.arange(1,101) #new day with a total of 101 now\n",
        "day_pred=np.arange(101,131)  #predicted 30+ days from the previous days"
      ],
      "metadata": {
        "id": "gpdKJwvgaq73"
      },
      "execution_count": 48,
      "outputs": []
    },
    {
      "cell_type": "code",
      "source": [
        ""
      ],
      "metadata": {
        "id": "IPH4mZZycqa_"
      },
      "execution_count": 48,
      "outputs": []
    }
  ]
}